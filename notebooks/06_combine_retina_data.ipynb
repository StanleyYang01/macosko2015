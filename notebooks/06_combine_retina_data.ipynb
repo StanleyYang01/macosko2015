{
 "cells": [
  {
   "cell_type": "markdown",
   "metadata": {},
   "source": [
    "# Combine and Clean Retina Data\n",
    "\n",
    "The purpose of this notebook is to combine all the digital gene expression data for the retina cells, downloaded from the Gene Expression Omnibus using the accession number [GSE63473](https://www.ncbi.nlm.nih.gov/geo/query/acc.cgi?acc=GSE63473)."
   ]
  },
  {
   "cell_type": "code",
   "execution_count": 2,
   "metadata": {},
   "outputs": [
    {
     "name": "stdout",
     "output_type": "stream",
     "text": [
      "Figure folder: ../figures/05_combine_retina_data\n",
      "Data folder: ../data/05_combine_retina_data\n"
     ]
    }
   ],
   "source": [
    "import os\n",
    "import common\n",
    "\n",
    "# Assign notebook and folder names\n",
    "notebook_name = '06_combine_retina_data'\n",
    "figure_folder = os.path.join(common.FIGURE_FOLDER, notebook_name)\n",
    "data_folder = os.path.join(common.DATA_FOLDER, notebook_name)\n",
    "print('Figure folder:', figure_folder)\n",
    "print('Data folder:', data_folder)\n",
    "\n",
    "# Make the folders\n",
    "! mkdir -p $figure_folder\n",
    "! mkdir -p $data_folder"
   ]
  },
  {
   "cell_type": "code",
   "execution_count": 3,
   "metadata": {
    "collapsed": true
   },
   "outputs": [],
   "source": [
    "%load_ext autoreload\n",
    "%autoreload 2\n",
    "\n",
    "import numpy as np\n",
    "import matplotlib.pyplot as plt\n",
    "import pandas as pd\n",
    "import seaborn as sns\n",
    "%matplotlib inline"
   ]
  },
  {
   "cell_type": "code",
   "execution_count": 4,
   "metadata": {},
   "outputs": [
    {
     "data": {
      "text/plain": [
       "'../data/00_original/GSM1626793_P14Retina_1.digital_expression.txt.gz'"
      ]
     },
     "execution_count": 4,
     "metadata": {},
     "output_type": "execute_result"
    }
   ],
   "source": [
    "input_folder = os.path.join(common.DATA_FOLDER, '00_original')\n",
    "\n",
    "filename = os.path.join(input_folder, 'GSM1626793_P14Retina_1.digital_expression.txt.gz')\n",
    "filename"
   ]
  },
  {
   "cell_type": "code",
   "execution_count": null,
   "metadata": {},
   "outputs": [
    {
     "name": "stdout",
     "output_type": "stream",
     "text": [
      "GSM1544798_SpeciesMix_ThousandSTAMPs_HUMAN.digital_expression.txt.gz\r\n",
      "GSM1544798_SpeciesMix_ThousandSTAMPs_MOUSE.digital_expression.txt.gz\r\n",
      "GSM1544799_SpeciesMix_HundredSTAMPs_HUMAN.digital_expression.txt.gz\r\n",
      "GSM1544799_SpeciesMix_HundredSTAMPs_MOUSE.digital_expression.txt.gz\r\n",
      "GSM1626793_P14Retina_1.digital_expression.txt.gz\r\n",
      "GSM1626794_P14Retina_2.digital_expression.txt.gz\r\n",
      "GSM1626795_P14Retina_3.digital_expression.txt.gz\r\n",
      "GSM1626796_P14Retina_4.digital_expression.txt.gz\r\n",
      "GSM1626797_P14Retina_5.digital_expression.txt.gz\r\n",
      "GSM1626798_P14Retina_6.digital_expression.txt.gz\r\n",
      "GSM1626799_P14Retina_7.digital_expression.txt.gz\r\n",
      "GSM1629192_Pure_HumanMouse_HUMAN.digital_expression.txt.gz\r\n",
      "GSM1629192_Pure_HumanMouse_MOUSE.digital_expression.txt.gz\r\n",
      "GSM1629193_ERCC.digital_expression.txt.gz\r\n",
      "GSM1629193_hg19_ERCC.dict.txt.gz\r\n",
      "GSM1629193_hg19_ERCC.refFlat.txt.gz\r\n",
      "mmc1.pdf\r\n",
      "mmc2.xlsx\r\n",
      "mmc3.xlsx\r\n",
      "mmc4.xlsx\r\n",
      "mmc4_v2.xlsx\r\n",
      "retina_clusteridentities.txt\r\n",
      "~$mmc2.xlsx\r\n"
     ]
    }
   ],
   "source": [
    "ls $input_folder"
   ]
  },
  {
   "cell_type": "code",
   "execution_count": null,
   "metadata": {},
   "outputs": [
    {
     "name": "stdout",
     "output_type": "stream",
     "text": [
      "--- gsm_i: 3, group_i: 1 ---\n",
      "\t ../data/00_original/GSM1626793_P14Retina_1.digital_expression.txt.gz\n",
      "CPU times: user 22.4 s, sys: 2.18 s, total: 24.6 s\n",
      "Wall time: 24.7 s\n",
      "--- gsm_i: 4, group_i: 2 ---\n",
      "\t ../data/00_original/GSM1626794_P14Retina_2.digital_expression.txt.gz\n"
     ]
    }
   ],
   "source": [
    "%%time\n",
    "\n",
    "tables = []\n",
    "retina_numbers = zip(range(3, 10), range(1, 8))\n",
    "\n",
    "template = os.path.join(input_folder, 'GSM162679{}_P14Retina_{}.digital_expression.txt.gz')\n",
    "\n",
    "cell_metadata_dfs = []\n",
    "\n",
    "for gsm_i, group_i in retina_numbers:\n",
    "    print(f\"--- gsm_i: {gsm_i}, group_i: {group_i} ---\")\n",
    "    filename = template.format(gsm_i, group_i)\n",
    "    print('\\t', filename)\n",
    "    %time table = pd.read_table(filename, compression='gzip', index_col=0)\n",
    "    \n",
    "    # Transpose so genes are columns and cells are rows, creating a\n",
    "    # (samples, features) matrix\n",
    "    table = table.T\n",
    "    tables.append(table)\n",
    "    \n",
    "    df = pd.DataFrame(index=table.index)\n",
    "    df['batch'] = group_i\n",
    "    cell_metadata_dfs.append(df)\n",
    "    \n",
    "expression = pd.concat(tables)\n",
    "print('expression.shape', expression.shape)\n",
    "\n",
    "cell_metadata = pd.concat(cell_metadata_dfs)\n",
    "print('cell_metadata.shape', cell_metadata.shape)"
   ]
  },
  {
   "cell_type": "code",
   "execution_count": null,
   "metadata": {
    "collapsed": true
   },
   "outputs": [],
   "source": [
    "expression.head()"
   ]
  },
  {
   "cell_type": "code",
   "execution_count": null,
   "metadata": {
    "collapsed": true
   },
   "outputs": [],
   "source": [
    "cell_metadata.head()"
   ]
  },
  {
   "cell_type": "code",
   "execution_count": null,
   "metadata": {
    "collapsed": true
   },
   "outputs": [],
   "source": [
    "cell_metadata.groupby('batch').size()"
   ]
  },
  {
   "cell_type": "markdown",
   "metadata": {},
   "source": [
    "\n",
    "## Clean expression matrix to be compatible with the cluster labels and identities\n",
    "\n",
    "Currently, cells are labeled by their barcode, e.g. `GCGCAACTGCTC`, and genes are labeled by their chrom:start-end:symbol, e.g. `6:51460434-51469894:Hnrnpa2b1`. But, in the supplementary data, the genes are all uppercase, e.g. `HNRNPA2B1` (which is incorrect since this is mouse data.. ) and the barcodes have `r1_` prepended before the id, e.g. `r1_GCGCAACTGCTC`.\n",
    "\n",
    "So we need to clean the data to be compatible with this"
   ]
  },
  {
   "cell_type": "code",
   "execution_count": null,
   "metadata": {
    "collapsed": true
   },
   "outputs": [],
   "source": [
    "gene_symbols = expression.columns.map(lambda x: x.split(':')[-1].upper())\n",
    "gene_symbols.name = 'symbol'\n",
    "expression.columns = gene_symbols\n",
    "expression.head()"
   ]
  },
  {
   "cell_type": "code",
   "execution_count": null,
   "metadata": {
    "collapsed": true
   },
   "outputs": [],
   "source": [
    "# %%time\n",
    "# csv = os.path.join(data_folder, 'retina_expression.csv')\n",
    "# expression.to_csv(csv)"
   ]
  },
  {
   "cell_type": "markdown",
   "metadata": {},
   "source": [
    "```\n",
    "CPU times: user 59min 38s, sys: 1min 53s, total: 1h 1min 31s\n",
    "Wall time: 2h 31min 41s\n",
    "```\n",
    "\n",
    "## 2h 31m to write a csv file -- Woww!!"
   ]
  },
  {
   "cell_type": "code",
   "execution_count": null,
   "metadata": {
    "collapsed": true
   },
   "outputs": [],
   "source": [
    "import xarray as xr "
   ]
  },
  {
   "cell_type": "code",
   "execution_count": null,
   "metadata": {
    "collapsed": true
   },
   "outputs": [],
   "source": [
    "expression.shape"
   ]
  },
  {
   "cell_type": "code",
   "execution_count": null,
   "metadata": {
    "collapsed": true
   },
   "outputs": [],
   "source": [
    "expression.columns[:10]"
   ]
  },
  {
   "cell_type": "markdown",
   "metadata": {},
   "source": [
    "## Add retinal cell cluster metadata"
   ]
  },
  {
   "cell_type": "code",
   "execution_count": null,
   "metadata": {
    "collapsed": true
   },
   "outputs": [],
   "source": [
    "csv = os.path.join(common.DATA_FOLDER, '03_clean_cluster_assignments', \n",
    "                   'cluster_bools.csv')\n",
    "cluster_bools = pd.read_csv(csv, index_col=0, squeeze=True)\n",
    "cluster_bools.head()"
   ]
  },
  {
   "cell_type": "code",
   "execution_count": null,
   "metadata": {
    "collapsed": true
   },
   "outputs": [],
   "source": [
    "csv = os.path.join(common.DATA_FOLDER, '03_clean_cluster_assignments', \n",
    "                   'cluster_names.csv')\n",
    "cluster_names = pd.read_csv(csv, index_col=0, squeeze=True)\n",
    "cluster_names.head()"
   ]
  },
  {
   "cell_type": "code",
   "execution_count": null,
   "metadata": {
    "collapsed": true
   },
   "outputs": [],
   "source": [
    "cell_metadata.head()"
   ]
  },
  {
   "cell_type": "code",
   "execution_count": null,
   "metadata": {
    "collapsed": true
   },
   "outputs": [],
   "source": [
    "cell_metadata.dtypes"
   ]
  },
  {
   "cell_type": "code",
   "execution_count": null,
   "metadata": {
    "collapsed": true
   },
   "outputs": [],
   "source": [
    "print(cell_metadata.shape)\n",
    "cell_metadata_clusters = cell_metadata.join(cluster_names, how='inner')\n",
    "print(cell_metadata_clusters.shape)\n",
    "cell_metadata_clusters.head()"
   ]
  },
  {
   "cell_type": "code",
   "execution_count": null,
   "metadata": {
    "collapsed": true
   },
   "outputs": [],
   "source": [
    "# Can't convert to int because some are NA\n",
    "# cell_metadata_clusters['cluster_id'] = cell_metadata_clusters['cluster_id'].astype(int)"
   ]
  },
  {
   "cell_type": "code",
   "execution_count": null,
   "metadata": {
    "collapsed": true
   },
   "outputs": [],
   "source": [
    "cell_metadata_clusters.dtypes"
   ]
  },
  {
   "cell_type": "markdown",
   "metadata": {},
   "source": [
    "## Add gene metadata"
   ]
  },
  {
   "cell_type": "code",
   "execution_count": null,
   "metadata": {
    "collapsed": true
   },
   "outputs": [],
   "source": [
    "csv = os.path.join(common.DATA_FOLDER, \n",
    "                   '04_extract_data_from_supplementary_excel_files', \n",
    "                   'mouse_gene_metadata.csv')\n",
    "gene_metadata = pd.read_csv(csv, index_col=0)\n",
    "gene_metadata.head()"
   ]
  },
  {
   "cell_type": "markdown",
   "metadata": {},
   "source": [
    "## Make subsets for teaching\n",
    "\n",
    "### Dropout demo - Equal sized clusters\n",
    "\n",
    "only use cells from the first batch, and only use differentially expressed genes from the biggest clusters"
   ]
  },
  {
   "cell_type": "code",
   "execution_count": null,
   "metadata": {
    "collapsed": true
   },
   "outputs": [],
   "source": [
    "cluster_sizes_table0 = tables[0].groupby(cluster_names['cluster_id'], axis=0).size()\n",
    "cluster_sizes_table0"
   ]
  },
  {
   "cell_type": "code",
   "execution_count": null,
   "metadata": {
    "collapsed": true
   },
   "outputs": [],
   "source": [
    "big_clusters = cluster_sizes_table0[cluster_sizes_table0 > 100]\n",
    "big_clusters"
   ]
  },
  {
   "cell_type": "markdown",
   "metadata": {},
   "source": [
    "## Make superset of all genes for posterity"
   ]
  },
  {
   "cell_type": "markdown",
   "metadata": {},
   "source": [
    "### Need to align the cell metadata with expression so xarray doesn't get mad"
   ]
  },
  {
   "cell_type": "code",
   "execution_count": 23,
   "metadata": {},
   "outputs": [
    {
     "name": "stdout",
     "output_type": "stream",
     "text": [
      "(44995, 40)\n",
      "(45447, 40) (45447, 24760)\n"
     ]
    }
   ],
   "source": [
    "print(cell_metadata_clusters.shape)\n",
    "\n",
    "cells_left, expression_right = cell_metadata_clusters.align(\n",
    "    expression, axis=0, join='inner')\n",
    "print(cells_left.shape, expression_right.shape)"
   ]
  },
  {
   "cell_type": "markdown",
   "metadata": {},
   "source": [
    "### Align the gene metadata too"
   ]
  },
  {
   "cell_type": "code",
   "execution_count": 24,
   "metadata": {
    "collapsed": true
   },
   "outputs": [],
   "source": [
    "genes_t = gene_metadata.T"
   ]
  },
  {
   "cell_type": "code",
   "execution_count": 34,
   "metadata": {},
   "outputs": [
    {
     "name": "stdout",
     "output_type": "stream",
     "text": [
      "(44, 24760) (45447, 24760)\n"
     ]
    },
    {
     "data": {
      "text/html": [
       "<div>\n",
       "<style>\n",
       "    .dataframe thead tr:only-child th {\n",
       "        text-align: right;\n",
       "    }\n",
       "\n",
       "    .dataframe thead th {\n",
       "        text-align: left;\n",
       "    }\n",
       "\n",
       "    .dataframe tbody tr th {\n",
       "        vertical-align: top;\n",
       "    }\n",
       "</style>\n",
       "<table border=\"1\" class=\"dataframe\">\n",
       "  <thead>\n",
       "    <tr style=\"text-align: right;\">\n",
       "      <th></th>\n",
       "      <th>0610005C13RIK</th>\n",
       "      <th>0610007N19RIK</th>\n",
       "      <th>0610007P14RIK</th>\n",
       "      <th>0610008F07RIK</th>\n",
       "      <th>0610009B14RIK</th>\n",
       "      <th>0610009B22RIK</th>\n",
       "      <th>0610009D07RIK</th>\n",
       "      <th>0610009E02RIK</th>\n",
       "      <th>0610009L18RIK</th>\n",
       "      <th>0610009O20RIK</th>\n",
       "      <th>...</th>\n",
       "      <th>ZW10</th>\n",
       "      <th>ZWILCH</th>\n",
       "      <th>ZWINT</th>\n",
       "      <th>ZXDB</th>\n",
       "      <th>ZXDC</th>\n",
       "      <th>ZYG11A</th>\n",
       "      <th>ZYG11B</th>\n",
       "      <th>ZYX</th>\n",
       "      <th>ZZEF1</th>\n",
       "      <th>ZZZ3</th>\n",
       "    </tr>\n",
       "  </thead>\n",
       "  <tbody>\n",
       "    <tr>\n",
       "      <th>retina_01</th>\n",
       "      <td>NaN</td>\n",
       "      <td>NaN</td>\n",
       "      <td>NaN</td>\n",
       "      <td>NaN</td>\n",
       "      <td>NaN</td>\n",
       "      <td>NaN</td>\n",
       "      <td>NaN</td>\n",
       "      <td>NaN</td>\n",
       "      <td>NaN</td>\n",
       "      <td>NaN</td>\n",
       "      <td>...</td>\n",
       "      <td>NaN</td>\n",
       "      <td>NaN</td>\n",
       "      <td>True</td>\n",
       "      <td>NaN</td>\n",
       "      <td>NaN</td>\n",
       "      <td>NaN</td>\n",
       "      <td>NaN</td>\n",
       "      <td>False</td>\n",
       "      <td>NaN</td>\n",
       "      <td>NaN</td>\n",
       "    </tr>\n",
       "    <tr>\n",
       "      <th>retina_02</th>\n",
       "      <td>NaN</td>\n",
       "      <td>NaN</td>\n",
       "      <td>NaN</td>\n",
       "      <td>NaN</td>\n",
       "      <td>NaN</td>\n",
       "      <td>NaN</td>\n",
       "      <td>NaN</td>\n",
       "      <td>NaN</td>\n",
       "      <td>NaN</td>\n",
       "      <td>NaN</td>\n",
       "      <td>...</td>\n",
       "      <td>NaN</td>\n",
       "      <td>NaN</td>\n",
       "      <td>True</td>\n",
       "      <td>NaN</td>\n",
       "      <td>NaN</td>\n",
       "      <td>NaN</td>\n",
       "      <td>NaN</td>\n",
       "      <td>False</td>\n",
       "      <td>NaN</td>\n",
       "      <td>NaN</td>\n",
       "    </tr>\n",
       "    <tr>\n",
       "      <th>retina_03</th>\n",
       "      <td>NaN</td>\n",
       "      <td>NaN</td>\n",
       "      <td>NaN</td>\n",
       "      <td>NaN</td>\n",
       "      <td>NaN</td>\n",
       "      <td>NaN</td>\n",
       "      <td>NaN</td>\n",
       "      <td>NaN</td>\n",
       "      <td>NaN</td>\n",
       "      <td>NaN</td>\n",
       "      <td>...</td>\n",
       "      <td>NaN</td>\n",
       "      <td>NaN</td>\n",
       "      <td>False</td>\n",
       "      <td>NaN</td>\n",
       "      <td>NaN</td>\n",
       "      <td>NaN</td>\n",
       "      <td>NaN</td>\n",
       "      <td>False</td>\n",
       "      <td>NaN</td>\n",
       "      <td>NaN</td>\n",
       "    </tr>\n",
       "    <tr>\n",
       "      <th>retina_04</th>\n",
       "      <td>NaN</td>\n",
       "      <td>NaN</td>\n",
       "      <td>NaN</td>\n",
       "      <td>NaN</td>\n",
       "      <td>NaN</td>\n",
       "      <td>NaN</td>\n",
       "      <td>NaN</td>\n",
       "      <td>NaN</td>\n",
       "      <td>NaN</td>\n",
       "      <td>NaN</td>\n",
       "      <td>...</td>\n",
       "      <td>NaN</td>\n",
       "      <td>NaN</td>\n",
       "      <td>False</td>\n",
       "      <td>NaN</td>\n",
       "      <td>NaN</td>\n",
       "      <td>NaN</td>\n",
       "      <td>NaN</td>\n",
       "      <td>False</td>\n",
       "      <td>NaN</td>\n",
       "      <td>NaN</td>\n",
       "    </tr>\n",
       "    <tr>\n",
       "      <th>retina_05</th>\n",
       "      <td>NaN</td>\n",
       "      <td>NaN</td>\n",
       "      <td>NaN</td>\n",
       "      <td>NaN</td>\n",
       "      <td>NaN</td>\n",
       "      <td>NaN</td>\n",
       "      <td>NaN</td>\n",
       "      <td>NaN</td>\n",
       "      <td>NaN</td>\n",
       "      <td>NaN</td>\n",
       "      <td>...</td>\n",
       "      <td>NaN</td>\n",
       "      <td>NaN</td>\n",
       "      <td>False</td>\n",
       "      <td>NaN</td>\n",
       "      <td>NaN</td>\n",
       "      <td>NaN</td>\n",
       "      <td>NaN</td>\n",
       "      <td>False</td>\n",
       "      <td>NaN</td>\n",
       "      <td>NaN</td>\n",
       "    </tr>\n",
       "  </tbody>\n",
       "</table>\n",
       "<p>5 rows × 24760 columns</p>\n",
       "</div>"
      ],
      "text/plain": [
       "           0610005C13RIK  0610007N19RIK  0610007P14RIK  0610008F07RIK  \\\n",
       "retina_01            NaN            NaN            NaN            NaN   \n",
       "retina_02            NaN            NaN            NaN            NaN   \n",
       "retina_03            NaN            NaN            NaN            NaN   \n",
       "retina_04            NaN            NaN            NaN            NaN   \n",
       "retina_05            NaN            NaN            NaN            NaN   \n",
       "\n",
       "           0610009B14RIK  0610009B22RIK  0610009D07RIK  0610009E02RIK  \\\n",
       "retina_01            NaN            NaN            NaN            NaN   \n",
       "retina_02            NaN            NaN            NaN            NaN   \n",
       "retina_03            NaN            NaN            NaN            NaN   \n",
       "retina_04            NaN            NaN            NaN            NaN   \n",
       "retina_05            NaN            NaN            NaN            NaN   \n",
       "\n",
       "           0610009L18RIK  0610009O20RIK  ...   ZW10  ZWILCH  ZWINT  ZXDB  \\\n",
       "retina_01            NaN            NaN  ...    NaN     NaN   True   NaN   \n",
       "retina_02            NaN            NaN  ...    NaN     NaN   True   NaN   \n",
       "retina_03            NaN            NaN  ...    NaN     NaN  False   NaN   \n",
       "retina_04            NaN            NaN  ...    NaN     NaN  False   NaN   \n",
       "retina_05            NaN            NaN  ...    NaN     NaN  False   NaN   \n",
       "\n",
       "           ZXDC  ZYG11A  ZYG11B    ZYX  ZZEF1  ZZZ3  \n",
       "retina_01   NaN     NaN     NaN  False    NaN   NaN  \n",
       "retina_02   NaN     NaN     NaN  False    NaN   NaN  \n",
       "retina_03   NaN     NaN     NaN  False    NaN   NaN  \n",
       "retina_04   NaN     NaN     NaN  False    NaN   NaN  \n",
       "retina_05   NaN     NaN     NaN  False    NaN   NaN  \n",
       "\n",
       "[5 rows x 24760 columns]"
      ]
     },
     "execution_count": 34,
     "metadata": {},
     "output_type": "execute_result"
    }
   ],
   "source": [
    "genes_t_left, expression_genes_right = genes_t.align(expression_right, axis=1, join='right')\n",
    "print(genes_t_left.shape, expression_genes_right.shape)\n",
    "genes_t_left.head()"
   ]
  },
  {
   "cell_type": "code",
   "execution_count": 35,
   "metadata": {
    "collapsed": true
   },
   "outputs": [],
   "source": [
    "genes_left = genes_t_left.T"
   ]
  },
  {
   "cell_type": "code",
   "execution_count": 36,
   "metadata": {},
   "outputs": [
    {
     "data": {
      "text/html": [
       "<div>\n",
       "<style>\n",
       "    .dataframe thead tr:only-child th {\n",
       "        text-align: right;\n",
       "    }\n",
       "\n",
       "    .dataframe thead th {\n",
       "        text-align: left;\n",
       "    }\n",
       "\n",
       "    .dataframe tbody tr th {\n",
       "        vertical-align: top;\n",
       "    }\n",
       "</style>\n",
       "<table border=\"1\" class=\"dataframe\">\n",
       "  <thead>\n",
       "    <tr style=\"text-align: right;\">\n",
       "      <th></th>\n",
       "      <th>batch</th>\n",
       "      <th>cluster_01</th>\n",
       "      <th>cluster_02</th>\n",
       "      <th>cluster_03</th>\n",
       "      <th>cluster_04</th>\n",
       "      <th>cluster_05</th>\n",
       "      <th>cluster_06</th>\n",
       "      <th>cluster_07</th>\n",
       "      <th>cluster_08</th>\n",
       "      <th>cluster_09</th>\n",
       "      <th>...</th>\n",
       "      <th>cluster_30</th>\n",
       "      <th>cluster_31</th>\n",
       "      <th>cluster_32</th>\n",
       "      <th>cluster_33</th>\n",
       "      <th>cluster_34</th>\n",
       "      <th>cluster_35</th>\n",
       "      <th>cluster_36</th>\n",
       "      <th>cluster_37</th>\n",
       "      <th>cluster_38</th>\n",
       "      <th>cluster_39</th>\n",
       "    </tr>\n",
       "  </thead>\n",
       "  <tbody>\n",
       "    <tr>\n",
       "      <th>AAAAAAAAAAAA</th>\n",
       "      <td>3</td>\n",
       "      <td>0</td>\n",
       "      <td>0</td>\n",
       "      <td>0</td>\n",
       "      <td>0</td>\n",
       "      <td>0</td>\n",
       "      <td>0</td>\n",
       "      <td>0</td>\n",
       "      <td>0</td>\n",
       "      <td>0</td>\n",
       "      <td>...</td>\n",
       "      <td>0</td>\n",
       "      <td>0</td>\n",
       "      <td>0</td>\n",
       "      <td>0</td>\n",
       "      <td>1</td>\n",
       "      <td>0</td>\n",
       "      <td>0</td>\n",
       "      <td>0</td>\n",
       "      <td>0</td>\n",
       "      <td>0</td>\n",
       "    </tr>\n",
       "    <tr>\n",
       "      <th>AAAAAAACAGTC</th>\n",
       "      <td>7</td>\n",
       "      <td>0</td>\n",
       "      <td>0</td>\n",
       "      <td>0</td>\n",
       "      <td>0</td>\n",
       "      <td>0</td>\n",
       "      <td>0</td>\n",
       "      <td>0</td>\n",
       "      <td>0</td>\n",
       "      <td>0</td>\n",
       "      <td>...</td>\n",
       "      <td>0</td>\n",
       "      <td>0</td>\n",
       "      <td>0</td>\n",
       "      <td>0</td>\n",
       "      <td>1</td>\n",
       "      <td>0</td>\n",
       "      <td>0</td>\n",
       "      <td>0</td>\n",
       "      <td>0</td>\n",
       "      <td>0</td>\n",
       "    </tr>\n",
       "    <tr>\n",
       "      <th>AAAAAAATGGTA</th>\n",
       "      <td>7</td>\n",
       "      <td>0</td>\n",
       "      <td>0</td>\n",
       "      <td>0</td>\n",
       "      <td>0</td>\n",
       "      <td>0</td>\n",
       "      <td>0</td>\n",
       "      <td>0</td>\n",
       "      <td>0</td>\n",
       "      <td>0</td>\n",
       "      <td>...</td>\n",
       "      <td>0</td>\n",
       "      <td>0</td>\n",
       "      <td>0</td>\n",
       "      <td>0</td>\n",
       "      <td>0</td>\n",
       "      <td>0</td>\n",
       "      <td>0</td>\n",
       "      <td>0</td>\n",
       "      <td>0</td>\n",
       "      <td>0</td>\n",
       "    </tr>\n",
       "    <tr>\n",
       "      <th>AAAAAACCAGCA</th>\n",
       "      <td>5</td>\n",
       "      <td>0</td>\n",
       "      <td>0</td>\n",
       "      <td>0</td>\n",
       "      <td>0</td>\n",
       "      <td>0</td>\n",
       "      <td>0</td>\n",
       "      <td>0</td>\n",
       "      <td>0</td>\n",
       "      <td>0</td>\n",
       "      <td>...</td>\n",
       "      <td>0</td>\n",
       "      <td>0</td>\n",
       "      <td>0</td>\n",
       "      <td>0</td>\n",
       "      <td>0</td>\n",
       "      <td>0</td>\n",
       "      <td>0</td>\n",
       "      <td>0</td>\n",
       "      <td>0</td>\n",
       "      <td>0</td>\n",
       "    </tr>\n",
       "    <tr>\n",
       "      <th>AAAAAAGATGAA</th>\n",
       "      <td>5</td>\n",
       "      <td>0</td>\n",
       "      <td>0</td>\n",
       "      <td>0</td>\n",
       "      <td>0</td>\n",
       "      <td>0</td>\n",
       "      <td>0</td>\n",
       "      <td>0</td>\n",
       "      <td>0</td>\n",
       "      <td>0</td>\n",
       "      <td>...</td>\n",
       "      <td>0</td>\n",
       "      <td>0</td>\n",
       "      <td>0</td>\n",
       "      <td>0</td>\n",
       "      <td>0</td>\n",
       "      <td>0</td>\n",
       "      <td>0</td>\n",
       "      <td>0</td>\n",
       "      <td>0</td>\n",
       "      <td>0</td>\n",
       "    </tr>\n",
       "  </tbody>\n",
       "</table>\n",
       "<p>5 rows × 40 columns</p>\n",
       "</div>"
      ],
      "text/plain": [
       "              batch  cluster_01  cluster_02  cluster_03  cluster_04  \\\n",
       "AAAAAAAAAAAA      3           0           0           0           0   \n",
       "AAAAAAACAGTC      7           0           0           0           0   \n",
       "AAAAAAATGGTA      7           0           0           0           0   \n",
       "AAAAAACCAGCA      5           0           0           0           0   \n",
       "AAAAAAGATGAA      5           0           0           0           0   \n",
       "\n",
       "              cluster_05  cluster_06  cluster_07  cluster_08  cluster_09  \\\n",
       "AAAAAAAAAAAA           0           0           0           0           0   \n",
       "AAAAAAACAGTC           0           0           0           0           0   \n",
       "AAAAAAATGGTA           0           0           0           0           0   \n",
       "AAAAAACCAGCA           0           0           0           0           0   \n",
       "AAAAAAGATGAA           0           0           0           0           0   \n",
       "\n",
       "                 ...      cluster_30  cluster_31  cluster_32  cluster_33  \\\n",
       "AAAAAAAAAAAA     ...               0           0           0           0   \n",
       "AAAAAAACAGTC     ...               0           0           0           0   \n",
       "AAAAAAATGGTA     ...               0           0           0           0   \n",
       "AAAAAACCAGCA     ...               0           0           0           0   \n",
       "AAAAAAGATGAA     ...               0           0           0           0   \n",
       "\n",
       "              cluster_34  cluster_35  cluster_36  cluster_37  cluster_38  \\\n",
       "AAAAAAAAAAAA           1           0           0           0           0   \n",
       "AAAAAAACAGTC           1           0           0           0           0   \n",
       "AAAAAAATGGTA           0           0           0           0           0   \n",
       "AAAAAACCAGCA           0           0           0           0           0   \n",
       "AAAAAAGATGAA           0           0           0           0           0   \n",
       "\n",
       "              cluster_39  \n",
       "AAAAAAAAAAAA           0  \n",
       "AAAAAAACAGTC           0  \n",
       "AAAAAAATGGTA           0  \n",
       "AAAAAACCAGCA           0  \n",
       "AAAAAAGATGAA           0  \n",
       "\n",
       "[5 rows x 40 columns]"
      ]
     },
     "execution_count": 36,
     "metadata": {},
     "output_type": "execute_result"
    }
   ],
   "source": [
    "cells_left.head()"
   ]
  },
  {
   "cell_type": "code",
   "execution_count": 1,
   "metadata": {},
   "outputs": [
    {
     "ename": "NameError",
     "evalue": "name 'xr' is not defined",
     "output_type": "error",
     "traceback": [
      "\u001b[0;31m---------------------------------------------------------------------------\u001b[0m",
      "\u001b[0;31mNameError\u001b[0m                                 Traceback (most recent call last)",
      "\u001b[0;32m<ipython-input-1-843f6d7f6784>\u001b[0m in \u001b[0;36m<module>\u001b[0;34m()\u001b[0m\n\u001b[0;32m----> 1\u001b[0;31m ds = xr.Dataset(\n\u001b[0m\u001b[1;32m      2\u001b[0m     {'expression': (['cells', 'genes'], expression_genes_right),\n\u001b[1;32m      3\u001b[0m      \u001b[0;34m'cell_metadata'\u001b[0m\u001b[0;34m:\u001b[0m \u001b[0;34m(\u001b[0m\u001b[0;34m[\u001b[0m\u001b[0;34m'cells'\u001b[0m\u001b[0;34m,\u001b[0m \u001b[0;34m'cell_features'\u001b[0m\u001b[0;34m,\u001b[0m \u001b[0;34m]\u001b[0m\u001b[0;34m,\u001b[0m \u001b[0mcells_left\u001b[0m\u001b[0;34m)\u001b[0m\u001b[0;34m,\u001b[0m\u001b[0;34m\u001b[0m\u001b[0m\n\u001b[1;32m      4\u001b[0m      \u001b[0;34m'gene_metadata'\u001b[0m\u001b[0;34m:\u001b[0m \u001b[0;34m(\u001b[0m\u001b[0;34m[\u001b[0m\u001b[0;34m'genes'\u001b[0m\u001b[0;34m,\u001b[0m \u001b[0;34m'gene_features'\u001b[0m\u001b[0;34m,\u001b[0m \u001b[0;34m]\u001b[0m\u001b[0;34m,\u001b[0m \u001b[0mgenes_left\u001b[0m\u001b[0;34m)\u001b[0m\u001b[0;34m,\u001b[0m\u001b[0;34m\u001b[0m\u001b[0m\n\u001b[1;32m      5\u001b[0m     })\n",
      "\u001b[0;31mNameError\u001b[0m: name 'xr' is not defined"
     ]
    }
   ],
   "source": [
    "ds = xr.Dataset(\n",
    "    {'expression': (['cells', 'genes'], expression_genes_right),\n",
    "     'cell_metadata': (['cells', 'cell_features', ], cells_left),\n",
    "     'gene_metadata': (['genes', 'gene_features', ], genes_left),\n",
    "    })"
   ]
  },
  {
   "cell_type": "code",
   "execution_count": 38,
   "metadata": {},
   "outputs": [
    {
     "data": {
      "text/plain": [
       "range(0, 2)"
      ]
     },
     "execution_count": 38,
     "metadata": {},
     "output_type": "execute_result"
    }
   ],
   "source": [
    "range(2)"
   ]
  },
  {
   "cell_type": "code",
   "execution_count": 39,
   "metadata": {},
   "outputs": [
    {
     "data": {
      "text/plain": [
       "<xarray.Dataset>\n",
       "Dimensions:        (cell_features: 40, cells: 45447, gene_features: 44, genes: 24760)\n",
       "Dimensions without coordinates: cell_features, cells, gene_features, genes\n",
       "Data variables:\n",
       "    expression     (cells, genes) float64 0.0 0.0 0.0 nan 0.0 1.0 0.0 0.0 ...\n",
       "    cell_metadata  (cells, cell_features) int64 3 0 0 0 0 0 0 0 0 0 0 0 0 0 ...\n",
       "    gene_metadata  (genes, gene_features) object nan nan nan nan nan nan nan ..."
      ]
     },
     "execution_count": 39,
     "metadata": {},
     "output_type": "execute_result"
    }
   ],
   "source": [
    "ds"
   ]
  },
  {
   "cell_type": "code",
   "execution_count": null,
   "metadata": {
    "collapsed": true
   },
   "outputs": [],
   "source": [
    "%%time\n",
    "netcdf = os.path.join(data_folder, 'retina_all_genes.netcdf')\n",
    "ds.to_netcdf(netcdf)"
   ]
  },
  {
   "cell_type": "code",
   "execution_count": null,
   "metadata": {
    "collapsed": true
   },
   "outputs": [],
   "source": [
    "ls -lha $netcdf"
   ]
  },
  {
   "cell_type": "code",
   "execution_count": 31,
   "metadata": {},
   "outputs": [
    {
     "name": "stdout",
     "output_type": "stream",
     "text": [
      "CPU times: user 795 ms, sys: 1.13 s, total: 1.92 s\n",
      "Wall time: 2.22 s\n"
     ]
    }
   ],
   "source": [
    "%%time\n",
    "netcdf = os.path.join(data_folder, 'retina.netcdf')\n",
    "ds.to_netcdf(netcdf)"
   ]
  },
  {
   "cell_type": "code",
   "execution_count": 33,
   "metadata": {},
   "outputs": [
    {
     "name": "stdout",
     "output_type": "stream",
     "text": [
      "-rw-r--r--  1 olgabot  staff   473M Jun 26 10:08 ../data/05_combine_retina_data/retina.netcdf\r\n"
     ]
    }
   ],
   "source": [
    "ls -lha $netcdf"
   ]
  },
  {
   "cell_type": "code",
   "execution_count": null,
   "metadata": {
    "collapsed": true
   },
   "outputs": [],
   "source": []
  }
 ],
 "metadata": {
  "kernelspec": {
   "display_name": "Python (macosko2015-env)",
   "language": "python",
   "name": "macosko2015-env"
  },
  "language_info": {
   "codemirror_mode": {
    "name": "ipython",
    "version": 3
   },
   "file_extension": ".py",
   "mimetype": "text/x-python",
   "name": "python",
   "nbconvert_exporter": "python",
   "pygments_lexer": "ipython3",
   "version": "3.6.1"
  }
 },
 "nbformat": 4,
 "nbformat_minor": 2
}
