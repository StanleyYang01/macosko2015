{
 "cells": [
  {
   "cell_type": "markdown",
   "metadata": {},
   "source": [
    "# Combine and Clean Retina Data\n",
    "\n",
    "The purpose of this notebook is to combine all the digital gene expression data for the retina cells, downloaded from the Gene Expression Omnibus using the accession number [GSE63473](https://www.ncbi.nlm.nih.gov/geo/query/acc.cgi?acc=GSE63473)."
   ]
  },
  {
   "cell_type": "code",
   "execution_count": 1,
   "metadata": {},
   "outputs": [
    {
     "name": "stdout",
     "output_type": "stream",
     "text": [
      "Figure folder: ../figures/01_data_cleaning\n",
      "Data folder: ../data/01_data_cleaning\n"
     ]
    }
   ],
   "source": [
    "import os\n",
    "import common\n",
    "\n",
    "# Assign notebook and folder names\n",
    "notebook_name = '05_combine_retina_data'\n",
    "figure_folder = os.path.join(common.FIGURE_FOLDER, notebook_name)\n",
    "data_folder = os.path.join(common.DATA_FOLDER, notebook_name)\n",
    "print('Figure folder:', figure_folder)\n",
    "print('Data folder:', data_folder)\n",
    "\n",
    "# Make the folders\n",
    "! mkdir -p $figure_folder\n",
    "! mkdir -p $data_folder"
   ]
  },
  {
   "cell_type": "code",
   "execution_count": 2,
   "metadata": {},
   "outputs": [],
   "source": [
    "%load_ext autoreload\n",
    "%autoreload 2\n",
    "\n",
    "import numpy as np\n",
    "import matplotlib.pyplot as plt\n",
    "import pandas as pd\n",
    "import seaborn as sns\n",
    "%matplotlib inline"
   ]
  },
  {
   "cell_type": "code",
   "execution_count": 3,
   "metadata": {},
   "outputs": [
    {
     "data": {
      "text/plain": [
       "'../data/00_original/GSM1626793_P14Retina_1.digital_expression.txt.gz'"
      ]
     },
     "execution_count": 3,
     "metadata": {},
     "output_type": "execute_result"
    }
   ],
   "source": [
    "input_folder = os.path.join(common.DATA_FOLDER, '00_original')\n",
    "\n",
    "filename = os.path.join(input_folder, 'GSM1626793_P14Retina_1.digital_expression.txt.gz')\n",
    "filename"
   ]
  },
  {
   "cell_type": "code",
   "execution_count": 4,
   "metadata": {},
   "outputs": [
    {
     "name": "stdout",
     "output_type": "stream",
     "text": [
      "GSM1544798_SpeciesMix_ThousandSTAMPs_HUMAN.digital_expression.txt.gz\r\n",
      "GSM1544798_SpeciesMix_ThousandSTAMPs_MOUSE.digital_expression.txt.gz\r\n",
      "GSM1544799_SpeciesMix_HundredSTAMPs_HUMAN.digital_expression.txt.gz\r\n",
      "GSM1544799_SpeciesMix_HundredSTAMPs_MOUSE.digital_expression.txt.gz\r\n",
      "GSM1626793_P14Retina_1.digital_expression.txt.gz\r\n",
      "GSM1626794_P14Retina_2.digital_expression.txt.gz\r\n",
      "GSM1626795_P14Retina_3.digital_expression.txt.gz\r\n",
      "GSM1626796_P14Retina_4.digital_expression.txt.gz\r\n",
      "GSM1626797_P14Retina_5.digital_expression.txt.gz\r\n",
      "GSM1626798_P14Retina_6.digital_expression.txt.gz\r\n",
      "GSM1626799_P14Retina_7.digital_expression.txt.gz\r\n",
      "GSM1629192_Pure_HumanMouse_HUMAN.digital_expression.txt.gz\r\n",
      "GSM1629192_Pure_HumanMouse_MOUSE.digital_expression.txt.gz\r\n",
      "GSM1629193_ERCC.digital_expression.txt.gz\r\n",
      "GSM1629193_hg19_ERCC.dict.txt.gz\r\n",
      "GSM1629193_hg19_ERCC.refFlat.txt.gz\r\n",
      "mmc1.pdf\r\n",
      "mmc2.xlsx\r\n",
      "mmc3.xlsx\r\n",
      "mmc4.xlsx\r\n",
      "mmc4_v2.xlsx\r\n",
      "retina_clusteridentities.txt\r\n"
     ]
    }
   ],
   "source": [
    "ls $input_folder"
   ]
  },
  {
   "cell_type": "code",
   "execution_count": 14,
   "metadata": {},
   "outputs": [
    {
     "name": "stdout",
     "output_type": "stream",
     "text": [
      "--- gsm_i: 3, group_i: 1 ---\n",
      "\t ../data/00_original/GSM1626793_P14Retina_1.digital_expression.txt.gz\n",
      "CPU times: user 20.3 s, sys: 2.07 s, total: 22.4 s\n",
      "Wall time: 22.8 s\n",
      "--- gsm_i: 4, group_i: 2 ---\n",
      "\t ../data/00_original/GSM1626794_P14Retina_2.digital_expression.txt.gz\n",
      "CPU times: user 38.8 s, sys: 2.67 s, total: 41.5 s\n",
      "Wall time: 41.7 s\n",
      "--- gsm_i: 5, group_i: 3 ---\n",
      "\t ../data/00_original/GSM1626795_P14Retina_3.digital_expression.txt.gz\n",
      "CPU times: user 17.8 s, sys: 1.84 s, total: 19.7 s\n",
      "Wall time: 19.9 s\n",
      "--- gsm_i: 6, group_i: 4 ---\n",
      "\t ../data/00_original/GSM1626796_P14Retina_4.digital_expression.txt.gz\n",
      "CPU times: user 22.7 s, sys: 2.35 s, total: 25 s\n",
      "Wall time: 25.3 s\n",
      "--- gsm_i: 7, group_i: 5 ---\n",
      "\t ../data/00_original/GSM1626797_P14Retina_5.digital_expression.txt.gz\n",
      "CPU times: user 22.1 s, sys: 2.09 s, total: 24.2 s\n",
      "Wall time: 24.6 s\n",
      "--- gsm_i: 8, group_i: 6 ---\n",
      "\t ../data/00_original/GSM1626798_P14Retina_6.digital_expression.txt.gz\n",
      "CPU times: user 37.9 s, sys: 2.85 s, total: 40.7 s\n",
      "Wall time: 41.1 s\n",
      "--- gsm_i: 9, group_i: 7 ---\n",
      "\t ../data/00_original/GSM1626799_P14Retina_7.digital_expression.txt.gz\n",
      "CPU times: user 10.2 s, sys: 1.3 s, total: 11.5 s\n",
      "Wall time: 11.7 s\n",
      "expression.shape (49300, 24760)\n",
      "cell_metadata.shape (49300, 1)\n",
      "CPU times: user 3min 22s, sys: 28.4 s, total: 3min 51s\n",
      "Wall time: 3min 57s\n"
     ]
    }
   ],
   "source": [
    "%%time\n",
    "\n",
    "tables = []\n",
    "retina_numbers = zip(range(3, 10), range(1, 8))\n",
    "\n",
    "template = os.path.join(input_folder, 'GSM162679{}_P14Retina_{}.digital_expression.txt.gz')\n",
    "\n",
    "cell_metadata_dfs = []\n",
    "\n",
    "for gsm_i, group_i in retina_numbers:\n",
    "    print(f\"--- gsm_i: {gsm_i}, group_i: {group_i} ---\")\n",
    "    filename = template.format(gsm_i, group_i)\n",
    "    print('\\t', filename)\n",
    "    %time table = pd.read_table(filename, compression='gzip', index_col=0)\n",
    "    \n",
    "    # Transpose so genes are columns and cells are rows, creating a\n",
    "    # (samples, features) matrix\n",
    "    table = table.T\n",
    "    tables.append(table)\n",
    "    \n",
    "    df = pd.DataFrame(index=table.index)\n",
    "    df['batch'] = group_i\n",
    "    cell_metadata_dfs.append(df)\n",
    "    \n",
    "expression = pd.concat(tables)\n",
    "print('expression.shape', expression.shape)\n",
    "\n",
    "cell_metadata = pd.concat(cell_metadata_dfs)\n",
    "print('cell_metadata.shape', cell_metadata.shape)"
   ]
  },
  {
   "cell_type": "code",
   "execution_count": 10,
   "metadata": {},
   "outputs": [
    {
     "data": {
      "text/html": [
       "<div>\n",
       "<style>\n",
       "    .dataframe thead tr:only-child th {\n",
       "        text-align: right;\n",
       "    }\n",
       "\n",
       "    .dataframe thead th {\n",
       "        text-align: left;\n",
       "    }\n",
       "\n",
       "    .dataframe tbody tr th {\n",
       "        vertical-align: top;\n",
       "    }\n",
       "</style>\n",
       "<table border=\"1\" class=\"dataframe\">\n",
       "  <thead>\n",
       "    <tr style=\"text-align: right;\">\n",
       "      <th></th>\n",
       "      <th>10:100015630-100100413:Kitl</th>\n",
       "      <th>10:100306571-100307185:Gm9476</th>\n",
       "      <th>10:100443902-100487350:Tmtc3</th>\n",
       "      <th>10:100488289-100573655:Cep290</th>\n",
       "      <th>10:100572274-100589259:4930430F08Rik</th>\n",
       "      <th>10:100592386-100618391:1700017N19Rik</th>\n",
       "      <th>10:10100953-10101116:Gm25682</th>\n",
       "      <th>10:101681487-102391469:Mgat4c</th>\n",
       "      <th>10:102481760-102490418:Nts</th>\n",
       "      <th>10:102512222-102546560:Rassf9</th>\n",
       "      <th>...</th>\n",
       "      <th>Y:1096861-1245759:Uty</th>\n",
       "      <th>Y:1260715-1286613:Ddx3y</th>\n",
       "      <th>Y:1298957-1459782:Usp9y</th>\n",
       "      <th>Y:45385648-45386331:Gm21779</th>\n",
       "      <th>Y:52674915-52675541:Gm21840</th>\n",
       "      <th>Y:78835860-78836543:Gm20806</th>\n",
       "      <th>Y:86365740-86366423:Gm20861</th>\n",
       "      <th>Y:897788-943811:Kdm5d</th>\n",
       "      <th>Y:90755657-90763485:Gm21857</th>\n",
       "      <th>Y:991630-991748:n-R5s1</th>\n",
       "    </tr>\n",
       "  </thead>\n",
       "  <tbody>\n",
       "    <tr>\n",
       "      <th>GGCCGCAGTCCG</th>\n",
       "      <td>0</td>\n",
       "      <td>NaN</td>\n",
       "      <td>3</td>\n",
       "      <td>1</td>\n",
       "      <td>2</td>\n",
       "      <td>0</td>\n",
       "      <td>NaN</td>\n",
       "      <td>0</td>\n",
       "      <td>NaN</td>\n",
       "      <td>0</td>\n",
       "      <td>...</td>\n",
       "      <td>0</td>\n",
       "      <td>0</td>\n",
       "      <td>NaN</td>\n",
       "      <td>NaN</td>\n",
       "      <td>NaN</td>\n",
       "      <td>NaN</td>\n",
       "      <td>NaN</td>\n",
       "      <td>0</td>\n",
       "      <td>NaN</td>\n",
       "      <td>0.0</td>\n",
       "    </tr>\n",
       "    <tr>\n",
       "      <th>CTTGTGCGGGAA</th>\n",
       "      <td>0</td>\n",
       "      <td>NaN</td>\n",
       "      <td>0</td>\n",
       "      <td>3</td>\n",
       "      <td>1</td>\n",
       "      <td>0</td>\n",
       "      <td>NaN</td>\n",
       "      <td>0</td>\n",
       "      <td>NaN</td>\n",
       "      <td>0</td>\n",
       "      <td>...</td>\n",
       "      <td>1</td>\n",
       "      <td>5</td>\n",
       "      <td>NaN</td>\n",
       "      <td>NaN</td>\n",
       "      <td>NaN</td>\n",
       "      <td>NaN</td>\n",
       "      <td>NaN</td>\n",
       "      <td>0</td>\n",
       "      <td>NaN</td>\n",
       "      <td>0.0</td>\n",
       "    </tr>\n",
       "    <tr>\n",
       "      <th>GCGCAACTGCTC</th>\n",
       "      <td>1</td>\n",
       "      <td>NaN</td>\n",
       "      <td>0</td>\n",
       "      <td>0</td>\n",
       "      <td>2</td>\n",
       "      <td>0</td>\n",
       "      <td>NaN</td>\n",
       "      <td>4</td>\n",
       "      <td>NaN</td>\n",
       "      <td>0</td>\n",
       "      <td>...</td>\n",
       "      <td>0</td>\n",
       "      <td>0</td>\n",
       "      <td>NaN</td>\n",
       "      <td>NaN</td>\n",
       "      <td>NaN</td>\n",
       "      <td>NaN</td>\n",
       "      <td>NaN</td>\n",
       "      <td>0</td>\n",
       "      <td>NaN</td>\n",
       "      <td>0.0</td>\n",
       "    </tr>\n",
       "    <tr>\n",
       "      <th>GATTGGGAGGCA</th>\n",
       "      <td>0</td>\n",
       "      <td>NaN</td>\n",
       "      <td>0</td>\n",
       "      <td>2</td>\n",
       "      <td>0</td>\n",
       "      <td>0</td>\n",
       "      <td>NaN</td>\n",
       "      <td>1</td>\n",
       "      <td>NaN</td>\n",
       "      <td>0</td>\n",
       "      <td>...</td>\n",
       "      <td>1</td>\n",
       "      <td>0</td>\n",
       "      <td>NaN</td>\n",
       "      <td>NaN</td>\n",
       "      <td>NaN</td>\n",
       "      <td>NaN</td>\n",
       "      <td>NaN</td>\n",
       "      <td>0</td>\n",
       "      <td>NaN</td>\n",
       "      <td>0.0</td>\n",
       "    </tr>\n",
       "    <tr>\n",
       "      <th>CCTCCTAGTTGG</th>\n",
       "      <td>0</td>\n",
       "      <td>NaN</td>\n",
       "      <td>2</td>\n",
       "      <td>1</td>\n",
       "      <td>1</td>\n",
       "      <td>0</td>\n",
       "      <td>NaN</td>\n",
       "      <td>2</td>\n",
       "      <td>NaN</td>\n",
       "      <td>0</td>\n",
       "      <td>...</td>\n",
       "      <td>0</td>\n",
       "      <td>0</td>\n",
       "      <td>NaN</td>\n",
       "      <td>NaN</td>\n",
       "      <td>NaN</td>\n",
       "      <td>NaN</td>\n",
       "      <td>NaN</td>\n",
       "      <td>0</td>\n",
       "      <td>NaN</td>\n",
       "      <td>0.0</td>\n",
       "    </tr>\n",
       "  </tbody>\n",
       "</table>\n",
       "<p>5 rows × 24760 columns</p>\n",
       "</div>"
      ],
      "text/plain": [
       "              10:100015630-100100413:Kitl  10:100306571-100307185:Gm9476  \\\n",
       "GGCCGCAGTCCG                            0                            NaN   \n",
       "CTTGTGCGGGAA                            0                            NaN   \n",
       "GCGCAACTGCTC                            1                            NaN   \n",
       "GATTGGGAGGCA                            0                            NaN   \n",
       "CCTCCTAGTTGG                            0                            NaN   \n",
       "\n",
       "              10:100443902-100487350:Tmtc3  10:100488289-100573655:Cep290  \\\n",
       "GGCCGCAGTCCG                             3                              1   \n",
       "CTTGTGCGGGAA                             0                              3   \n",
       "GCGCAACTGCTC                             0                              0   \n",
       "GATTGGGAGGCA                             0                              2   \n",
       "CCTCCTAGTTGG                             2                              1   \n",
       "\n",
       "              10:100572274-100589259:4930430F08Rik  \\\n",
       "GGCCGCAGTCCG                                     2   \n",
       "CTTGTGCGGGAA                                     1   \n",
       "GCGCAACTGCTC                                     2   \n",
       "GATTGGGAGGCA                                     0   \n",
       "CCTCCTAGTTGG                                     1   \n",
       "\n",
       "              10:100592386-100618391:1700017N19Rik  \\\n",
       "GGCCGCAGTCCG                                     0   \n",
       "CTTGTGCGGGAA                                     0   \n",
       "GCGCAACTGCTC                                     0   \n",
       "GATTGGGAGGCA                                     0   \n",
       "CCTCCTAGTTGG                                     0   \n",
       "\n",
       "              10:10100953-10101116:Gm25682  10:101681487-102391469:Mgat4c  \\\n",
       "GGCCGCAGTCCG                           NaN                              0   \n",
       "CTTGTGCGGGAA                           NaN                              0   \n",
       "GCGCAACTGCTC                           NaN                              4   \n",
       "GATTGGGAGGCA                           NaN                              1   \n",
       "CCTCCTAGTTGG                           NaN                              2   \n",
       "\n",
       "              10:102481760-102490418:Nts  10:102512222-102546560:Rassf9  \\\n",
       "GGCCGCAGTCCG                         NaN                              0   \n",
       "CTTGTGCGGGAA                         NaN                              0   \n",
       "GCGCAACTGCTC                         NaN                              0   \n",
       "GATTGGGAGGCA                         NaN                              0   \n",
       "CCTCCTAGTTGG                         NaN                              0   \n",
       "\n",
       "                       ...            Y:1096861-1245759:Uty  \\\n",
       "GGCCGCAGTCCG           ...                                0   \n",
       "CTTGTGCGGGAA           ...                                1   \n",
       "GCGCAACTGCTC           ...                                0   \n",
       "GATTGGGAGGCA           ...                                1   \n",
       "CCTCCTAGTTGG           ...                                0   \n",
       "\n",
       "              Y:1260715-1286613:Ddx3y  Y:1298957-1459782:Usp9y  \\\n",
       "GGCCGCAGTCCG                        0                      NaN   \n",
       "CTTGTGCGGGAA                        5                      NaN   \n",
       "GCGCAACTGCTC                        0                      NaN   \n",
       "GATTGGGAGGCA                        0                      NaN   \n",
       "CCTCCTAGTTGG                        0                      NaN   \n",
       "\n",
       "              Y:45385648-45386331:Gm21779  Y:52674915-52675541:Gm21840  \\\n",
       "GGCCGCAGTCCG                          NaN                          NaN   \n",
       "CTTGTGCGGGAA                          NaN                          NaN   \n",
       "GCGCAACTGCTC                          NaN                          NaN   \n",
       "GATTGGGAGGCA                          NaN                          NaN   \n",
       "CCTCCTAGTTGG                          NaN                          NaN   \n",
       "\n",
       "              Y:78835860-78836543:Gm20806  Y:86365740-86366423:Gm20861  \\\n",
       "GGCCGCAGTCCG                          NaN                          NaN   \n",
       "CTTGTGCGGGAA                          NaN                          NaN   \n",
       "GCGCAACTGCTC                          NaN                          NaN   \n",
       "GATTGGGAGGCA                          NaN                          NaN   \n",
       "CCTCCTAGTTGG                          NaN                          NaN   \n",
       "\n",
       "              Y:897788-943811:Kdm5d  Y:90755657-90763485:Gm21857  \\\n",
       "GGCCGCAGTCCG                      0                          NaN   \n",
       "CTTGTGCGGGAA                      0                          NaN   \n",
       "GCGCAACTGCTC                      0                          NaN   \n",
       "GATTGGGAGGCA                      0                          NaN   \n",
       "CCTCCTAGTTGG                      0                          NaN   \n",
       "\n",
       "              Y:991630-991748:n-R5s1  \n",
       "GGCCGCAGTCCG                     0.0  \n",
       "CTTGTGCGGGAA                     0.0  \n",
       "GCGCAACTGCTC                     0.0  \n",
       "GATTGGGAGGCA                     0.0  \n",
       "CCTCCTAGTTGG                     0.0  \n",
       "\n",
       "[5 rows x 24760 columns]"
      ]
     },
     "execution_count": 10,
     "metadata": {},
     "output_type": "execute_result"
    }
   ],
   "source": [
    "expression.head()"
   ]
  },
  {
   "cell_type": "code",
   "execution_count": 15,
   "metadata": {},
   "outputs": [
    {
     "data": {
      "text/html": [
       "<div>\n",
       "<style>\n",
       "    .dataframe thead tr:only-child th {\n",
       "        text-align: right;\n",
       "    }\n",
       "\n",
       "    .dataframe thead th {\n",
       "        text-align: left;\n",
       "    }\n",
       "\n",
       "    .dataframe tbody tr th {\n",
       "        vertical-align: top;\n",
       "    }\n",
       "</style>\n",
       "<table border=\"1\" class=\"dataframe\">\n",
       "  <thead>\n",
       "    <tr style=\"text-align: right;\">\n",
       "      <th></th>\n",
       "      <th>batch</th>\n",
       "    </tr>\n",
       "  </thead>\n",
       "  <tbody>\n",
       "    <tr>\n",
       "      <th>GGCCGCAGTCCG</th>\n",
       "      <td>1</td>\n",
       "    </tr>\n",
       "    <tr>\n",
       "      <th>CTTGTGCGGGAA</th>\n",
       "      <td>1</td>\n",
       "    </tr>\n",
       "    <tr>\n",
       "      <th>GCGCAACTGCTC</th>\n",
       "      <td>1</td>\n",
       "    </tr>\n",
       "    <tr>\n",
       "      <th>GATTGGGAGGCA</th>\n",
       "      <td>1</td>\n",
       "    </tr>\n",
       "    <tr>\n",
       "      <th>CCTCCTAGTTGG</th>\n",
       "      <td>1</td>\n",
       "    </tr>\n",
       "  </tbody>\n",
       "</table>\n",
       "</div>"
      ],
      "text/plain": [
       "              batch\n",
       "GGCCGCAGTCCG      1\n",
       "CTTGTGCGGGAA      1\n",
       "GCGCAACTGCTC      1\n",
       "GATTGGGAGGCA      1\n",
       "CCTCCTAGTTGG      1"
      ]
     },
     "execution_count": 15,
     "metadata": {},
     "output_type": "execute_result"
    }
   ],
   "source": [
    "cell_metadata.head()"
   ]
  },
  {
   "cell_type": "code",
   "execution_count": 17,
   "metadata": {},
   "outputs": [
    {
     "data": {
      "text/plain": [
       "batch\n",
       "1    6600\n",
       "2    9000\n",
       "3    6120\n",
       "4    7650\n",
       "5    7650\n",
       "6    8280\n",
       "7    4000\n",
       "dtype: int64"
      ]
     },
     "execution_count": 17,
     "metadata": {},
     "output_type": "execute_result"
    }
   ],
   "source": [
    "cell_metadata.groupby('batch').size()"
   ]
  },
  {
   "cell_type": "markdown",
   "metadata": {},
   "source": [
    "\n",
    "## Clean expression matrix to be compatible with the cluster labels and identities\n",
    "\n",
    "Currently, cells are labeled by their barcode, e.g. `GCGCAACTGCTC`, and genes are labeled by their chrom:start-end:symbol, e.g. `6:51460434-51469894:Hnrnpa2b1`. But, in the supplementary data, the genes are all uppercase, e.g. `HNRNPA2B1` (which is incorrect since this is mouse data.. ) and the barcodes have `r1_` prepended before the id, e.g. `r1_GCGCAACTGCTC`.\n",
    "\n",
    "So we need to clean the data to be compatible with this"
   ]
  },
  {
   "cell_type": "code",
   "execution_count": 21,
   "metadata": {},
   "outputs": [
    {
     "data": {
      "text/html": [
       "<div>\n",
       "<style>\n",
       "    .dataframe thead tr:only-child th {\n",
       "        text-align: right;\n",
       "    }\n",
       "\n",
       "    .dataframe thead th {\n",
       "        text-align: left;\n",
       "    }\n",
       "\n",
       "    .dataframe tbody tr th {\n",
       "        vertical-align: top;\n",
       "    }\n",
       "</style>\n",
       "<table border=\"1\" class=\"dataframe\">\n",
       "  <thead>\n",
       "    <tr style=\"text-align: right;\">\n",
       "      <th>symbol</th>\n",
       "      <th>KITL</th>\n",
       "      <th>GM9476</th>\n",
       "      <th>TMTC3</th>\n",
       "      <th>CEP290</th>\n",
       "      <th>4930430F08RIK</th>\n",
       "      <th>1700017N19RIK</th>\n",
       "      <th>GM25682</th>\n",
       "      <th>MGAT4C</th>\n",
       "      <th>NTS</th>\n",
       "      <th>RASSF9</th>\n",
       "      <th>...</th>\n",
       "      <th>UTY</th>\n",
       "      <th>DDX3Y</th>\n",
       "      <th>USP9Y</th>\n",
       "      <th>GM21779</th>\n",
       "      <th>GM21840</th>\n",
       "      <th>GM20806</th>\n",
       "      <th>GM20861</th>\n",
       "      <th>KDM5D</th>\n",
       "      <th>GM21857</th>\n",
       "      <th>N-R5S1</th>\n",
       "    </tr>\n",
       "  </thead>\n",
       "  <tbody>\n",
       "    <tr>\n",
       "      <th>GGCCGCAGTCCG</th>\n",
       "      <td>0</td>\n",
       "      <td>NaN</td>\n",
       "      <td>3</td>\n",
       "      <td>1</td>\n",
       "      <td>2</td>\n",
       "      <td>0</td>\n",
       "      <td>NaN</td>\n",
       "      <td>0</td>\n",
       "      <td>NaN</td>\n",
       "      <td>0</td>\n",
       "      <td>...</td>\n",
       "      <td>0</td>\n",
       "      <td>0</td>\n",
       "      <td>NaN</td>\n",
       "      <td>NaN</td>\n",
       "      <td>NaN</td>\n",
       "      <td>NaN</td>\n",
       "      <td>NaN</td>\n",
       "      <td>0</td>\n",
       "      <td>NaN</td>\n",
       "      <td>0.0</td>\n",
       "    </tr>\n",
       "    <tr>\n",
       "      <th>CTTGTGCGGGAA</th>\n",
       "      <td>0</td>\n",
       "      <td>NaN</td>\n",
       "      <td>0</td>\n",
       "      <td>3</td>\n",
       "      <td>1</td>\n",
       "      <td>0</td>\n",
       "      <td>NaN</td>\n",
       "      <td>0</td>\n",
       "      <td>NaN</td>\n",
       "      <td>0</td>\n",
       "      <td>...</td>\n",
       "      <td>1</td>\n",
       "      <td>5</td>\n",
       "      <td>NaN</td>\n",
       "      <td>NaN</td>\n",
       "      <td>NaN</td>\n",
       "      <td>NaN</td>\n",
       "      <td>NaN</td>\n",
       "      <td>0</td>\n",
       "      <td>NaN</td>\n",
       "      <td>0.0</td>\n",
       "    </tr>\n",
       "    <tr>\n",
       "      <th>GCGCAACTGCTC</th>\n",
       "      <td>1</td>\n",
       "      <td>NaN</td>\n",
       "      <td>0</td>\n",
       "      <td>0</td>\n",
       "      <td>2</td>\n",
       "      <td>0</td>\n",
       "      <td>NaN</td>\n",
       "      <td>4</td>\n",
       "      <td>NaN</td>\n",
       "      <td>0</td>\n",
       "      <td>...</td>\n",
       "      <td>0</td>\n",
       "      <td>0</td>\n",
       "      <td>NaN</td>\n",
       "      <td>NaN</td>\n",
       "      <td>NaN</td>\n",
       "      <td>NaN</td>\n",
       "      <td>NaN</td>\n",
       "      <td>0</td>\n",
       "      <td>NaN</td>\n",
       "      <td>0.0</td>\n",
       "    </tr>\n",
       "    <tr>\n",
       "      <th>GATTGGGAGGCA</th>\n",
       "      <td>0</td>\n",
       "      <td>NaN</td>\n",
       "      <td>0</td>\n",
       "      <td>2</td>\n",
       "      <td>0</td>\n",
       "      <td>0</td>\n",
       "      <td>NaN</td>\n",
       "      <td>1</td>\n",
       "      <td>NaN</td>\n",
       "      <td>0</td>\n",
       "      <td>...</td>\n",
       "      <td>1</td>\n",
       "      <td>0</td>\n",
       "      <td>NaN</td>\n",
       "      <td>NaN</td>\n",
       "      <td>NaN</td>\n",
       "      <td>NaN</td>\n",
       "      <td>NaN</td>\n",
       "      <td>0</td>\n",
       "      <td>NaN</td>\n",
       "      <td>0.0</td>\n",
       "    </tr>\n",
       "    <tr>\n",
       "      <th>CCTCCTAGTTGG</th>\n",
       "      <td>0</td>\n",
       "      <td>NaN</td>\n",
       "      <td>2</td>\n",
       "      <td>1</td>\n",
       "      <td>1</td>\n",
       "      <td>0</td>\n",
       "      <td>NaN</td>\n",
       "      <td>2</td>\n",
       "      <td>NaN</td>\n",
       "      <td>0</td>\n",
       "      <td>...</td>\n",
       "      <td>0</td>\n",
       "      <td>0</td>\n",
       "      <td>NaN</td>\n",
       "      <td>NaN</td>\n",
       "      <td>NaN</td>\n",
       "      <td>NaN</td>\n",
       "      <td>NaN</td>\n",
       "      <td>0</td>\n",
       "      <td>NaN</td>\n",
       "      <td>0.0</td>\n",
       "    </tr>\n",
       "  </tbody>\n",
       "</table>\n",
       "<p>5 rows × 24760 columns</p>\n",
       "</div>"
      ],
      "text/plain": [
       "symbol        KITL  GM9476  TMTC3  CEP290  4930430F08RIK  1700017N19RIK  \\\n",
       "GGCCGCAGTCCG     0     NaN      3       1              2              0   \n",
       "CTTGTGCGGGAA     0     NaN      0       3              1              0   \n",
       "GCGCAACTGCTC     1     NaN      0       0              2              0   \n",
       "GATTGGGAGGCA     0     NaN      0       2              0              0   \n",
       "CCTCCTAGTTGG     0     NaN      2       1              1              0   \n",
       "\n",
       "symbol        GM25682  MGAT4C  NTS  RASSF9   ...    UTY  DDX3Y  USP9Y  \\\n",
       "GGCCGCAGTCCG      NaN       0  NaN       0   ...      0      0    NaN   \n",
       "CTTGTGCGGGAA      NaN       0  NaN       0   ...      1      5    NaN   \n",
       "GCGCAACTGCTC      NaN       4  NaN       0   ...      0      0    NaN   \n",
       "GATTGGGAGGCA      NaN       1  NaN       0   ...      1      0    NaN   \n",
       "CCTCCTAGTTGG      NaN       2  NaN       0   ...      0      0    NaN   \n",
       "\n",
       "symbol        GM21779  GM21840  GM20806  GM20861  KDM5D  GM21857  N-R5S1  \n",
       "GGCCGCAGTCCG      NaN      NaN      NaN      NaN      0      NaN     0.0  \n",
       "CTTGTGCGGGAA      NaN      NaN      NaN      NaN      0      NaN     0.0  \n",
       "GCGCAACTGCTC      NaN      NaN      NaN      NaN      0      NaN     0.0  \n",
       "GATTGGGAGGCA      NaN      NaN      NaN      NaN      0      NaN     0.0  \n",
       "CCTCCTAGTTGG      NaN      NaN      NaN      NaN      0      NaN     0.0  \n",
       "\n",
       "[5 rows x 24760 columns]"
      ]
     },
     "execution_count": 21,
     "metadata": {},
     "output_type": "execute_result"
    }
   ],
   "source": [
    "gene_symbols = expression.columns.map(lambda x: x.split(':')[-1].upper())\n",
    "gene_symbols.name = 'symbol'\n",
    "expression.columns = gene_symbols\n",
    "expression.head()"
   ]
  },
  {
   "cell_type": "code",
   "execution_count": 12,
   "metadata": {},
   "outputs": [
    {
     "name": "stdout",
     "output_type": "stream",
     "text": [
      "CPU times: user 59min 38s, sys: 1min 53s, total: 1h 1min 31s\n",
      "Wall time: 2h 31min 41s\n"
     ]
    }
   ],
   "source": [
    "%%time\n",
    "csv = os.path.join(data_folder, 'retina_expression.csv')\n",
    "expression.to_csv(csv)"
   ]
  },
  {
   "cell_type": "markdown",
   "metadata": {},
   "source": [
    "```\n",
    "CPU times: user 59min 38s, sys: 1min 53s, total: 1h 1min 31s\n",
    "Wall time: 2h 31min 41s\n",
    "```\n",
    "\n",
    "## 2h 31m to write a csv file -- Woww!!"
   ]
  },
  {
   "cell_type": "code",
   "execution_count": 13,
   "metadata": {},
   "outputs": [
    {
     "name": "stdout",
     "output_type": "stream",
     "text": [
      "-rw-r--r--  1 olgabot  staff   2.4G Jun 23 16:17 ../data/01_data_cleaning/retina_expression.csv\r\n"
     ]
    }
   ],
   "source": [
    "ls -lh $csv"
   ]
  },
  {
   "cell_type": "code",
   "execution_count": 18,
   "metadata": {
    "collapsed": true
   },
   "outputs": [],
   "source": [
    "import xarray as xr"
   ]
  },
  {
   "cell_type": "code",
   "execution_count": 22,
   "metadata": {},
   "outputs": [
    {
     "data": {
      "text/plain": [
       "Index(['KITL', 'GM9476', 'TMTC3', 'CEP290', '4930430F08RIK', '1700017N19RIK',\n",
       "       'GM25682', 'MGAT4C', 'NTS', 'RASSF9'],\n",
       "      dtype='object', name='symbol')"
      ]
     },
     "execution_count": 22,
     "metadata": {},
     "output_type": "execute_result"
    }
   ],
   "source": [
    "expression.columns[:10]"
   ]
  },
  {
   "cell_type": "code",
   "execution_count": 23,
   "metadata": {},
   "outputs": [
    {
     "data": {
      "text/plain": [
       "<xarray.DataArray (cells: 49300, genes: 24760)>\n",
       "array([[  0.,  nan,   3., ...,   0.,  nan,   0.],\n",
       "       [  0.,  nan,   0., ...,   0.,  nan,   0.],\n",
       "       [  1.,  nan,   0., ...,   0.,  nan,   0.],\n",
       "       ..., \n",
       "       [  0.,  nan,   0., ...,   0.,  nan,  nan],\n",
       "       [  0.,  nan,   0., ...,   0.,  nan,  nan],\n",
       "       [  0.,  nan,   0., ...,   0.,  nan,  nan]])\n",
       "Coordinates:\n",
       "  * cells    (cells) object 'GGCCGCAGTCCG' 'CTTGTGCGGGAA' 'GCGCAACTGCTC' ...\n",
       "  * genes    (genes) object 'KITL' 'GM9476' 'TMTC3' 'CEP290' '4930430F08RIK' ..."
      ]
     },
     "execution_count": 23,
     "metadata": {},
     "output_type": "execute_result"
    }
   ],
   "source": [
    "dataset = xr.DataArray(expression, dims=['cells', 'genes'])\n",
    "dataset"
   ]
  },
  {
   "cell_type": "code",
   "execution_count": 24,
   "metadata": {},
   "outputs": [
    {
     "data": {
      "text/plain": [
       "cell\n",
       "GGCCGCAGTCCG     2\n",
       "CTTGTGCGGGAA     2\n",
       "GCGCAACTGCTC     2\n",
       "GATTGGGAGGCA     2\n",
       "GTGCCGCCTCTC    25\n",
       "Name: cluster_id, dtype: int64"
      ]
     },
     "execution_count": 24,
     "metadata": {},
     "output_type": "execute_result"
    }
   ],
   "source": [
    "csv = os.path.join(common.DATA_FOLDER, '03_clean_cluster_assignments', 'cluster_ids.csv')\n",
    "cluster_ids = pd.read_csv(csv, index_col=0, squeeze=True)\n",
    "cluster_ids.head()"
   ]
  },
  {
   "cell_type": "code",
   "execution_count": 25,
   "metadata": {},
   "outputs": [
    {
     "data": {
      "text/html": [
       "<div>\n",
       "<style>\n",
       "    .dataframe thead tr:only-child th {\n",
       "        text-align: right;\n",
       "    }\n",
       "\n",
       "    .dataframe thead th {\n",
       "        text-align: left;\n",
       "    }\n",
       "\n",
       "    .dataframe tbody tr th {\n",
       "        vertical-align: top;\n",
       "    }\n",
       "</style>\n",
       "<table border=\"1\" class=\"dataframe\">\n",
       "  <thead>\n",
       "    <tr style=\"text-align: right;\">\n",
       "      <th></th>\n",
       "      <th>batch</th>\n",
       "    </tr>\n",
       "  </thead>\n",
       "  <tbody>\n",
       "    <tr>\n",
       "      <th>GGCCGCAGTCCG</th>\n",
       "      <td>1</td>\n",
       "    </tr>\n",
       "    <tr>\n",
       "      <th>CTTGTGCGGGAA</th>\n",
       "      <td>1</td>\n",
       "    </tr>\n",
       "    <tr>\n",
       "      <th>GCGCAACTGCTC</th>\n",
       "      <td>1</td>\n",
       "    </tr>\n",
       "    <tr>\n",
       "      <th>GATTGGGAGGCA</th>\n",
       "      <td>1</td>\n",
       "    </tr>\n",
       "    <tr>\n",
       "      <th>CCTCCTAGTTGG</th>\n",
       "      <td>1</td>\n",
       "    </tr>\n",
       "  </tbody>\n",
       "</table>\n",
       "</div>"
      ],
      "text/plain": [
       "              batch\n",
       "GGCCGCAGTCCG      1\n",
       "CTTGTGCGGGAA      1\n",
       "GCGCAACTGCTC      1\n",
       "GATTGGGAGGCA      1\n",
       "CCTCCTAGTTGG      1"
      ]
     },
     "execution_count": 25,
     "metadata": {},
     "output_type": "execute_result"
    }
   ],
   "source": [
    "cell_metadata.head()"
   ]
  },
  {
   "cell_type": "code",
   "execution_count": 27,
   "metadata": {},
   "outputs": [
    {
     "data": {
      "text/plain": [
       "batch    int64\n",
       "dtype: object"
      ]
     },
     "execution_count": 27,
     "metadata": {},
     "output_type": "execute_result"
    }
   ],
   "source": [
    "cell_metadata.dtypes"
   ]
  },
  {
   "cell_type": "code",
   "execution_count": 26,
   "metadata": {},
   "outputs": [
    {
     "data": {
      "text/html": [
       "<div>\n",
       "<style>\n",
       "    .dataframe thead tr:only-child th {\n",
       "        text-align: right;\n",
       "    }\n",
       "\n",
       "    .dataframe thead th {\n",
       "        text-align: left;\n",
       "    }\n",
       "\n",
       "    .dataframe tbody tr th {\n",
       "        vertical-align: top;\n",
       "    }\n",
       "</style>\n",
       "<table border=\"1\" class=\"dataframe\">\n",
       "  <thead>\n",
       "    <tr style=\"text-align: right;\">\n",
       "      <th></th>\n",
       "      <th>batch</th>\n",
       "      <th>cluster_id</th>\n",
       "    </tr>\n",
       "  </thead>\n",
       "  <tbody>\n",
       "    <tr>\n",
       "      <th>AAAAAAAAAAAA</th>\n",
       "      <td>3</td>\n",
       "      <td>34.0</td>\n",
       "    </tr>\n",
       "    <tr>\n",
       "      <th>AAAAAAACAGTC</th>\n",
       "      <td>7</td>\n",
       "      <td>34.0</td>\n",
       "    </tr>\n",
       "    <tr>\n",
       "      <th>AAAAAAATGGTA</th>\n",
       "      <td>7</td>\n",
       "      <td>24.0</td>\n",
       "    </tr>\n",
       "    <tr>\n",
       "      <th>AAAAAACCAGCA</th>\n",
       "      <td>5</td>\n",
       "      <td>24.0</td>\n",
       "    </tr>\n",
       "    <tr>\n",
       "      <th>AAAAAAGATGAA</th>\n",
       "      <td>5</td>\n",
       "      <td>24.0</td>\n",
       "    </tr>\n",
       "  </tbody>\n",
       "</table>\n",
       "</div>"
      ],
      "text/plain": [
       "              batch  cluster_id\n",
       "AAAAAAAAAAAA      3        34.0\n",
       "AAAAAAACAGTC      7        34.0\n",
       "AAAAAAATGGTA      7        24.0\n",
       "AAAAAACCAGCA      5        24.0\n",
       "AAAAAAGATGAA      5        24.0"
      ]
     },
     "execution_count": 26,
     "metadata": {},
     "output_type": "execute_result"
    }
   ],
   "source": [
    "cell_metadata_clusters = cell_metadata.join(cluster_ids)\n",
    "cell_metadata_clusters.head()"
   ]
  },
  {
   "cell_type": "code",
   "execution_count": 32,
   "metadata": {},
   "outputs": [],
   "source": [
    "# Can't convert to int because some are NA\n",
    "# cell_metadata_clusters['cluster_id'] = cell_metadata_clusters['cluster_id'].astype(int)"
   ]
  },
  {
   "cell_type": "code",
   "execution_count": 29,
   "metadata": {},
   "outputs": [
    {
     "data": {
      "text/plain": [
       "batch           int64\n",
       "cluster_id    float64\n",
       "dtype: object"
      ]
     },
     "execution_count": 29,
     "metadata": {},
     "output_type": "execute_result"
    }
   ],
   "source": [
    "cell_metadata_clusters.dtypes"
   ]
  },
  {
   "cell_type": "code",
   "execution_count": 33,
   "metadata": {
    "collapsed": true
   },
   "outputs": [],
   "source": [
    "dataset.attrs['cell_metadata'] = cell_metadata_clusters"
   ]
  },
  {
   "cell_type": "code",
   "execution_count": null,
   "metadata": {
    "collapsed": true
   },
   "outputs": [],
   "source": []
  }
 ],
 "metadata": {
  "kernelspec": {
   "display_name": "Python (macosko2015-env)",
   "language": "python",
   "name": "macosko2015-env"
  },
  "language_info": {
   "codemirror_mode": {
    "name": "ipython",
    "version": 3
   },
   "file_extension": ".py",
   "mimetype": "text/x-python",
   "name": "python",
   "nbconvert_exporter": "python",
   "pygments_lexer": "ipython3",
   "version": "3.6.1"
  }
 },
 "nbformat": 4,
 "nbformat_minor": 2
}
