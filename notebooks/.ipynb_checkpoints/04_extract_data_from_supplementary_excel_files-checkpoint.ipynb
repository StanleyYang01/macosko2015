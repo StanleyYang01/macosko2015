{
 "cells": [
  {
   "cell_type": "code",
   "execution_count": null,
   "metadata": {
    "collapsed": true
   },
   "outputs": [],
   "source": [
    "import os\n",
    "import common\n",
    "\n",
    "# Assign notebook and folder names\n",
    "notebook_name = '04_extract_data_from_excel'\n",
    "figure_folder = os.path.join(common.FIGURE_FOLDER, notebook_name)\n",
    "data_folder = os.path.join(common.DATA_FOLDER, notebook_name)\n",
    "print('Figure folder:', figure_folder)\n",
    "print('Data folder:', data_folder)\n",
    "\n",
    "# Make the folders\n",
    "! mkdir -p $figure_folder\n",
    "! mkdir -p $data_folder"
   ]
  },
  {
   "cell_type": "code",
   "execution_count": null,
   "metadata": {
    "collapsed": true
   },
   "outputs": [],
   "source": [
    "cluster_markers = pd.read_excel('macosko2015/mmc4.xlsx', \n",
    "                                sheetname='FINAL_MARKERS_FOR_EACH_CLUSTER.',\n",
    "                                skiprows=3)\n",
    "print(cluster_markers.shape)\n",
    "cluster_markers.head()"
   ]
  }
 ],
 "metadata": {
  "kernelspec": {
   "display_name": "Python (macosko2015-env)",
   "language": "python",
   "name": "macosko2015-env"
  },
  "language_info": {
   "codemirror_mode": {
    "name": "ipython",
    "version": 3
   },
   "file_extension": ".py",
   "mimetype": "text/x-python",
   "name": "python",
   "nbconvert_exporter": "python",
   "pygments_lexer": "ipython3",
   "version": "3.6.1"
  }
 },
 "nbformat": 4,
 "nbformat_minor": 2
}
