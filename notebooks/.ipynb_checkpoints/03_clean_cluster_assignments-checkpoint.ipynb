{
 "cells": [
  {
   "cell_type": "markdown",
   "metadata": {},
   "source": [
    "# Clean Cluster Assignments\n",
    "\n",
    "The purpose of this notebook is to clean the cluster assignments (cell metadata) of each cell (barcode). This data was downloaded from the McCarroll Lab's Drop-Seq [website](http://mccarrolllab.com/dropseq/)."
   ]
  },
  {
   "cell_type": "code",
   "execution_count": 4,
   "metadata": {},
   "outputs": [
    {
     "name": "stdout",
     "output_type": "stream",
     "text": [
      "Figure folder: ../figures/03_clean_cluster_assignments\n",
      "Data folder: ../data/03_clean_cluster_assignments\n"
     ]
    }
   ],
   "source": [
    "import os\n",
    "import common\n",
    "\n",
    "# Assign notebook and folder names\n",
    "notebook_name = '03_clean_cluster_assignments'\n",
    "figure_folder = os.path.join(common.FIGURE_FOLDER, notebook_name)\n",
    "data_folder = os.path.join(common.DATA_FOLDER, notebook_name)\n",
    "print('Figure folder:', figure_folder)\n",
    "print('Data folder:', data_folder)\n",
    "\n",
    "# Make the folders\n",
    "! mkdir -p $figure_folder\n",
    "! mkdir -p $data_folder"
   ]
  },
  {
   "cell_type": "code",
   "execution_count": 5,
   "metadata": {
    "collapsed": true
   },
   "outputs": [],
   "source": [
    "%load_ext autoreload\n",
    "%autoreload 2\n",
    "\n",
    "import numpy as np\n",
    "import matplotlib.pyplot as plt\n",
    "import pandas as pd\n",
    "import seaborn as sns\n",
    "%matplotlib inline"
   ]
  },
  {
   "cell_type": "code",
   "execution_count": 6,
   "metadata": {},
   "outputs": [],
   "source": [
    "input_folder = os.path.join(common.DATA_FOLDER, '00_original')"
   ]
  },
  {
   "cell_type": "code",
   "execution_count": 7,
   "metadata": {},
   "outputs": [
    {
     "name": "stdout",
     "output_type": "stream",
     "text": [
      "GSM1544798_SpeciesMix_ThousandSTAMPs_HUMAN.digital_expression.txt.gz\r\n",
      "GSM1544798_SpeciesMix_ThousandSTAMPs_MOUSE.digital_expression.txt.gz\r\n",
      "GSM1544799_SpeciesMix_HundredSTAMPs_HUMAN.digital_expression.txt.gz\r\n",
      "GSM1544799_SpeciesMix_HundredSTAMPs_MOUSE.digital_expression.txt.gz\r\n",
      "GSM1626793_P14Retina_1.digital_expression.txt.gz\r\n",
      "GSM1626794_P14Retina_2.digital_expression.txt.gz\r\n",
      "GSM1626795_P14Retina_3.digital_expression.txt.gz\r\n",
      "GSM1626796_P14Retina_4.digital_expression.txt.gz\r\n",
      "GSM1626797_P14Retina_5.digital_expression.txt.gz\r\n",
      "GSM1626798_P14Retina_6.digital_expression.txt.gz\r\n",
      "GSM1626799_P14Retina_7.digital_expression.txt.gz\r\n",
      "GSM1629192_Pure_HumanMouse_HUMAN.digital_expression.txt.gz\r\n",
      "GSM1629192_Pure_HumanMouse_MOUSE.digital_expression.txt.gz\r\n",
      "GSM1629193_ERCC.digital_expression.txt.gz\r\n",
      "GSM1629193_hg19_ERCC.dict.txt.gz\r\n",
      "GSM1629193_hg19_ERCC.refFlat.txt.gz\r\n",
      "mmc1.pdf\r\n",
      "mmc2.xlsx\r\n",
      "mmc3.xlsx\r\n",
      "mmc4.xlsx\r\n",
      "mmc4_v2.xlsx\r\n",
      "retina_clusteridentities.txt\r\n"
     ]
    }
   ],
   "source": [
    "ls $input_folder"
   ]
  },
  {
   "cell_type": "code",
   "execution_count": null,
   "metadata": {
    "collapsed": true
   },
   "outputs": [],
   "source": [
    "input_folder = os.path.join(common.DATA_FOLDER, '00_original')\n",
    "\n",
    "filename = os.path.join(input_folder, 'retina_clusteridentities.txt')\n",
    "filename"
   ]
  },
  {
   "cell_type": "code",
   "execution_count": null,
   "metadata": {
    "collapsed": true
   },
   "outputs": [],
   "source": [
    "cluster_ids = pd.read_table()"
   ]
  }
 ],
 "metadata": {
  "kernelspec": {
   "display_name": "Python (macosko2015-env)",
   "language": "python",
   "name": "macosko2015-env"
  },
  "language_info": {
   "codemirror_mode": {
    "name": "ipython",
    "version": 3
   },
   "file_extension": ".py",
   "mimetype": "text/x-python",
   "name": "python",
   "nbconvert_exporter": "python",
   "pygments_lexer": "ipython3",
   "version": "3.6.1"
  }
 },
 "nbformat": 4,
 "nbformat_minor": 2
}
