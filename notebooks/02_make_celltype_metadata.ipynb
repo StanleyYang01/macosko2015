{
 "cells": [
  {
   "cell_type": "markdown",
   "metadata": {},
   "source": [
    "# Make celltype metadata\n",
    "\n",
    "The purpose of this notebook is to map the id (integer number) of each cluster to a biological name. This was done by looking at [Figure 5D](https://www.ncbi.nlm.nih.gov/pmc/articles/PMC4481139/figure/F5/) in the paper.\n",
    "\n",
    "[![Figure 5](https://www.ncbi.nlm.nih.gov/pmc/articles/PMC4481139/bin/nihms687993f5.jpg)](https://www.ncbi.nlm.nih.gov/core/lw/2.0/html/tileshop_pmc/tileshop_pmc_inline.html?title=Click%20on%20image%20to%20zoom&p=PMC3&id=4481139_nihms687993f5.jpg)"
   ]
  },
  {
   "cell_type": "code",
   "execution_count": 2,
   "metadata": {},
   "outputs": [
    {
     "name": "stdout",
     "output_type": "stream",
     "text": [
      "Figure folder: ../figures/02_make_celltype_metadata\n",
      "Data folder: ../data/02_make_celltype_metadata\n"
     ]
    }
   ],
   "source": [
    "import os\n",
    "\n",
    "import pandas as pd\n",
    "\n",
    "import common\n",
    "\n",
    "# Assign notebook and folder names\n",
    "notebook_name = '02_make_celltype_metadata'\n",
    "figure_folder = os.path.join(common.FIGURE_FOLDER, notebook_name)\n",
    "data_folder = os.path.join(common.DATA_FOLDER, notebook_name)\n",
    "print('Figure folder:', figure_folder)\n",
    "print('Data folder:', data_folder)\n",
    "\n",
    "# Make the folders\n",
    "! mkdir -p $figure_folder\n",
    "! mkdir -p $data_folder"
   ]
  },
  {
   "cell_type": "markdown",
   "metadata": {},
   "source": [
    "## Cluster IDs (numbers) to the type of cell from the paper\n",
    "\n",
    "Hardcoded, could have errors"
   ]
  },
  {
   "cell_type": "code",
   "execution_count": 3,
   "metadata": {
    "collapsed": true
   },
   "outputs": [],
   "source": [
    "cluster_name_to_ids = {'Horizontal cells': 1, 'Retinal ganglion cells': 2,\n",
    "                       'Amacrine cells': range(3, 24), \"Rods\": 24,\n",
    "                       'Cones': 25, 'Bipolar cells': range(26, 34),\n",
    "                       'Muller glia': 34, 'Astrocytes': 35,\n",
    "                       'Fibroblasts': 36, 'Vascular endothelium': 37,\n",
    "                       'Pericytes': 38, 'Microglia': 39}"
   ]
  },
  {
   "cell_type": "code",
   "execution_count": 4,
   "metadata": {
    "collapsed": true
   },
   "outputs": [],
   "source": [
    "import itertools\n"
   ]
  },
  {
   "cell_type": "code",
   "execution_count": 5,
   "metadata": {},
   "outputs": [
    {
     "data": {
      "text/plain": [
       "[(1, 'Horizontal cells'),\n",
       " (2, 'Retinal ganglion cells'),\n",
       " (3, 'Amacrine cells'),\n",
       " (4, 'Amacrine cells'),\n",
       " (5, 'Amacrine cells'),\n",
       " (6, 'Amacrine cells'),\n",
       " (7, 'Amacrine cells'),\n",
       " (8, 'Amacrine cells'),\n",
       " (9, 'Amacrine cells'),\n",
       " (10, 'Amacrine cells'),\n",
       " (11, 'Amacrine cells'),\n",
       " (12, 'Amacrine cells'),\n",
       " (13, 'Amacrine cells'),\n",
       " (14, 'Amacrine cells'),\n",
       " (15, 'Amacrine cells'),\n",
       " (16, 'Amacrine cells'),\n",
       " (17, 'Amacrine cells'),\n",
       " (18, 'Amacrine cells'),\n",
       " (19, 'Amacrine cells'),\n",
       " (20, 'Amacrine cells'),\n",
       " (21, 'Amacrine cells'),\n",
       " (22, 'Amacrine cells'),\n",
       " (23, 'Amacrine cells'),\n",
       " (24, 'Rods'),\n",
       " (25, 'Cones'),\n",
       " (26, 'Bipolar cells'),\n",
       " (27, 'Bipolar cells'),\n",
       " (28, 'Bipolar cells'),\n",
       " (29, 'Bipolar cells'),\n",
       " (30, 'Bipolar cells'),\n",
       " (31, 'Bipolar cells'),\n",
       " (32, 'Bipolar cells'),\n",
       " (33, 'Bipolar cells'),\n",
       " (34, 'Muller glia'),\n",
       " (35, 'Astrocytes'),\n",
       " (36, 'Fibroblasts'),\n",
       " (37, 'Vascular endothelium'),\n",
       " (38, 'Pericytes'),\n",
       " (39, 'Microglia')]"
      ]
     },
     "execution_count": 5,
     "metadata": {},
     "output_type": "execute_result"
    }
   ],
   "source": [
    "pairs = [zip(v, itertools.cycle([k])) if not isinstance(v, int) else [(v, k)] \n",
    "     for k, v in cluster_name_to_ids.items()]\n",
    "pairs = list(itertools.chain(*pairs))\n",
    "pairs"
   ]
  },
  {
   "cell_type": "code",
   "execution_count": 6,
   "metadata": {},
   "outputs": [],
   "source": [
    "celltypes = [name for i, name in pairs]\n",
    "ids = ['cluster_' + str(i).zfill(2) for i, name in pairs]"
   ]
  },
  {
   "cell_type": "code",
   "execution_count": 15,
   "metadata": {},
   "outputs": [
    {
     "data": {
      "text/plain": [
       "cluster_01          Horizontal cells\n",
       "cluster_02    Retinal ganglion cells\n",
       "cluster_03            Amacrine cells\n",
       "cluster_04            Amacrine cells\n",
       "cluster_05            Amacrine cells\n",
       "cluster_06            Amacrine cells\n",
       "cluster_07            Amacrine cells\n",
       "cluster_08            Amacrine cells\n",
       "cluster_09            Amacrine cells\n",
       "cluster_10            Amacrine cells\n",
       "cluster_11            Amacrine cells\n",
       "cluster_12            Amacrine cells\n",
       "cluster_13            Amacrine cells\n",
       "cluster_14            Amacrine cells\n",
       "cluster_15            Amacrine cells\n",
       "cluster_16            Amacrine cells\n",
       "cluster_17            Amacrine cells\n",
       "cluster_18            Amacrine cells\n",
       "cluster_19            Amacrine cells\n",
       "cluster_20            Amacrine cells\n",
       "cluster_21            Amacrine cells\n",
       "cluster_22            Amacrine cells\n",
       "cluster_23            Amacrine cells\n",
       "cluster_24                      Rods\n",
       "cluster_25                     Cones\n",
       "cluster_26             Bipolar cells\n",
       "cluster_27             Bipolar cells\n",
       "cluster_28             Bipolar cells\n",
       "cluster_29             Bipolar cells\n",
       "cluster_30             Bipolar cells\n",
       "cluster_31             Bipolar cells\n",
       "cluster_32             Bipolar cells\n",
       "cluster_33             Bipolar cells\n",
       "cluster_34               Muller glia\n",
       "cluster_35                Astrocytes\n",
       "cluster_36               Fibroblasts\n",
       "cluster_37      Vascular endothelium\n",
       "cluster_38                 Pericytes\n",
       "cluster_39                 Microglia\n",
       "Name: cluster_name, dtype: object"
      ]
     },
     "execution_count": 15,
     "metadata": {},
     "output_type": "execute_result"
    }
   ],
   "source": [
    "cluster_names = pd.Series(celltypes, index=ids, name='cluster_name')\n",
    "cluster_names"
   ]
  },
  {
   "cell_type": "code",
   "execution_count": 16,
   "metadata": {},
   "outputs": [
    {
     "data": {
      "text/plain": [
       "'../data/02_make_celltype_metadata/cluster_ids_to_celltypes.csv'"
      ]
     },
     "execution_count": 16,
     "metadata": {},
     "output_type": "execute_result"
    }
   ],
   "source": [
    "csv = os.path.join(data_folder, 'cluster_ids_to_celltypes.csv')\n",
    "csv"
   ]
  },
  {
   "cell_type": "code",
   "execution_count": 17,
   "metadata": {},
   "outputs": [
    {
     "name": "stdout",
     "output_type": "stream",
     "text": [
      "cluster_id,cluster_name\r\n",
      "cluster_01,Horizontal cells\r\n",
      "cluster_02,Retinal ganglion cells\r\n",
      "cluster_03,Amacrine cells\r\n",
      "cluster_04,Amacrine cells\r\n",
      "cluster_05,Amacrine cells\r\n",
      "cluster_06,Amacrine cells\r\n",
      "cluster_07,Amacrine cells\r\n",
      "cluster_08,Amacrine cells\r\n",
      "cluster_09,Amacrine cells\r\n"
     ]
    }
   ],
   "source": [
    "cluster_names.to_csv(csv, index=True, index_label='cluster_id', \n",
    "                     header=True)\n",
    "! head $csv"
   ]
  },
  {
   "cell_type": "code",
   "execution_count": null,
   "metadata": {
    "collapsed": true
   },
   "outputs": [],
   "source": []
  }
 ],
 "metadata": {
  "kernelspec": {
   "display_name": "Python 3 (cshl-sca-2017)",
   "language": "python",
   "name": "cshl-sca-2017"
  },
  "language_info": {
   "codemirror_mode": {
    "name": "ipython",
    "version": 3
   },
   "file_extension": ".py",
   "mimetype": "text/x-python",
   "name": "python",
   "nbconvert_exporter": "python",
   "pygments_lexer": "ipython3",
   "version": "3.6.1"
  }
 },
 "nbformat": 4,
 "nbformat_minor": 2
}
