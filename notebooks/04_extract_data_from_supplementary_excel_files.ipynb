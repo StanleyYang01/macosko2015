{
 "cells": [
  {
   "cell_type": "markdown",
   "metadata": {},
   "source": [
    "# Extract data from Supplementary Excel files\n",
    "\n",
    "The purpose of this notebook is to extract data from the Excel files, clean them, and write them to CSV.\n"
   ]
  },
  {
   "cell_type": "code",
   "execution_count": 1,
   "metadata": {},
   "outputs": [
    {
     "name": "stdout",
     "output_type": "stream",
     "text": [
      "Figure folder: ../figures/04_extract_data_from_excel\n",
      "Data folder: ../data/04_extract_data_from_excel\n"
     ]
    }
   ],
   "source": [
    "import os\n",
    "import common\n",
    "\n",
    "# Assign notebook and folder names\n",
    "notebook_name = '04_extract_data_from_supplementary_excel_files'\n",
    "figure_folder = os.path.join(common.FIGURE_FOLDER, notebook_name)\n",
    "data_folder = os.path.join(common.DATA_FOLDER, notebook_name)\n",
    "print('Figure folder:', figure_folder)\n",
    "print('Data folder:', data_folder)\n",
    "\n",
    "# Make the folders\n",
    "! mkdir -p $figure_folder\n",
    "! mkdir -p $data_folder"
   ]
  },
  {
   "cell_type": "code",
   "execution_count": 4,
   "metadata": {
    "collapsed": true
   },
   "outputs": [],
   "source": [
    "%load_ext autoreload\n",
    "%autoreload 2\n",
    "\n",
    "import numpy as np\n",
    "import matplotlib.pyplot as plt\n",
    "import pandas as pd\n",
    "import seaborn as sns\n",
    "%matplotlib inline"
   ]
  },
  {
   "cell_type": "code",
   "execution_count": 6,
   "metadata": {
    "collapsed": true
   },
   "outputs": [],
   "source": [
    "input_folder = os.path.join(common.DATA_FOLDER, '00_original')"
   ]
  },
  {
   "cell_type": "markdown",
   "metadata": {},
   "source": [
    "## Cluster markers\n",
    "\n",
    "These are the genes that were preferentially expressed in individual clusters, according to their analysis.\n",
    "\n",
    "\n",
    "The original supplementary file was corrupted and had many problems with the column values so I fixed them by hand, which is why we use `mmc4_v2.xlsx`."
   ]
  },
  {
   "cell_type": "code",
   "execution_count": 10,
   "metadata": {},
   "outputs": [
    {
     "name": "stdout",
     "output_type": "stream",
     "text": [
      "(4292, 5)\n",
      "(3994, 5)\n"
     ]
    },
    {
     "data": {
      "text/html": [
       "<div>\n",
       "<style>\n",
       "    .dataframe thead tr:only-child th {\n",
       "        text-align: right;\n",
       "    }\n",
       "\n",
       "    .dataframe thead th {\n",
       "        text-align: left;\n",
       "    }\n",
       "\n",
       "    .dataframe tbody tr th {\n",
       "        vertical-align: top;\n",
       "    }\n",
       "</style>\n",
       "<table border=\"1\" class=\"dataframe\">\n",
       "  <thead>\n",
       "    <tr style=\"text-align: right;\">\n",
       "      <th></th>\n",
       "      <th>gene_symbol</th>\n",
       "      <th>myAUC</th>\n",
       "      <th>myDiff</th>\n",
       "      <th>power</th>\n",
       "      <th>cluster #</th>\n",
       "    </tr>\n",
       "  </thead>\n",
       "  <tbody>\n",
       "    <tr>\n",
       "      <th>0</th>\n",
       "      <td>CALB1</td>\n",
       "      <td>0.966</td>\n",
       "      <td>3.615047</td>\n",
       "      <td>0.466</td>\n",
       "      <td>1</td>\n",
       "    </tr>\n",
       "    <tr>\n",
       "      <th>1</th>\n",
       "      <td>SLC4A3</td>\n",
       "      <td>0.963</td>\n",
       "      <td>3.448571</td>\n",
       "      <td>0.463</td>\n",
       "      <td>1</td>\n",
       "    </tr>\n",
       "    <tr>\n",
       "      <th>2</th>\n",
       "      <td>TPM3</td>\n",
       "      <td>0.965</td>\n",
       "      <td>3.151521</td>\n",
       "      <td>0.465</td>\n",
       "      <td>1</td>\n",
       "    </tr>\n",
       "    <tr>\n",
       "      <th>3</th>\n",
       "      <td>SEPT4</td>\n",
       "      <td>0.964</td>\n",
       "      <td>2.939258</td>\n",
       "      <td>0.464</td>\n",
       "      <td>1</td>\n",
       "    </tr>\n",
       "    <tr>\n",
       "      <th>4</th>\n",
       "      <td>VIM</td>\n",
       "      <td>0.944</td>\n",
       "      <td>2.937992</td>\n",
       "      <td>0.444</td>\n",
       "      <td>1</td>\n",
       "    </tr>\n",
       "  </tbody>\n",
       "</table>\n",
       "</div>"
      ],
      "text/plain": [
       "  gene_symbol  myAUC    myDiff  power  cluster #\n",
       "0       CALB1  0.966  3.615047  0.466          1\n",
       "1      SLC4A3  0.963  3.448571  0.463          1\n",
       "2        TPM3  0.965  3.151521  0.465          1\n",
       "3       SEPT4  0.964  2.939258  0.464          1\n",
       "4         VIM  0.944  2.937992  0.444          1"
      ]
     },
     "execution_count": 10,
     "metadata": {},
     "output_type": "execute_result"
    }
   ],
   "source": [
    "filename = os.path.join(input_folder, 'mmc4_v2.xlsx')\n",
    "\n",
    "cluster_markers = pd.read_excel(filename,\n",
    "                                sheetname='FINAL_MARKERS_FOR_EACH_CLUSTER.',\n",
    "                                skiprows=3)\n",
    "cluster_markers = cluster_markers.rename(columns={\"Unnamed: 0\": 'gene_symbol'})\n",
    "\n",
    "# Remove any rows with NA because those are all header rows\n",
    "print(cluster_markers.shape)\n",
    "cluster_markers = cluster_markers.dropna()\n",
    "print(cluster_markers.shape)\n",
    "cluster_markers['cluster #'] = cluster_markers['cluster #'].astype(int)\n",
    "cluster_markers.head()"
   ]
  },
  {
   "cell_type": "code",
   "execution_count": 11,
   "metadata": {},
   "outputs": [
    {
     "data": {
      "text/plain": [
       "cluster #\n",
       "1     190\n",
       "2     174\n",
       "3     162\n",
       "4      84\n",
       "5     159\n",
       "6     156\n",
       "7     164\n",
       "8     145\n",
       "9     145\n",
       "10    120\n",
       "11    111\n",
       "12     68\n",
       "13    163\n",
       "14    127\n",
       "15     69\n",
       "16     97\n",
       "17     99\n",
       "18     76\n",
       "19    115\n",
       "22     51\n",
       "23     67\n",
       "24     49\n",
       "25     14\n",
       "26     87\n",
       "27     27\n",
       "28     48\n",
       "29     39\n",
       "30     60\n",
       "32     81\n",
       "33     47\n",
       "34    147\n",
       "35    164\n",
       "36    153\n",
       "37    236\n",
       "38    147\n",
       "39    153\n",
       "dtype: int64"
      ]
     },
     "execution_count": 11,
     "metadata": {},
     "output_type": "execute_result"
    }
   ],
   "source": [
    "cluster_markers.groupby('cluster #').size()"
   ]
  },
  {
   "cell_type": "markdown",
   "metadata": {},
   "source": [
    "## Pairwise markers\n",
    "\n",
    "These are the genes that distinguish sets of cells from each other.\n",
    "\n"
   ]
  },
  {
   "cell_type": "code",
   "execution_count": 9,
   "metadata": {},
   "outputs": [
    {
     "name": "stdout",
     "output_type": "stream",
     "text": [
      "(193618, 3)\n"
     ]
    },
    {
     "data": {
      "text/html": [
       "<div>\n",
       "<style>\n",
       "    .dataframe thead tr:only-child th {\n",
       "        text-align: right;\n",
       "    }\n",
       "\n",
       "    .dataframe thead th {\n",
       "        text-align: left;\n",
       "    }\n",
       "\n",
       "    .dataframe tbody tr th {\n",
       "        vertical-align: top;\n",
       "    }\n",
       "</style>\n",
       "<table border=\"1\" class=\"dataframe\">\n",
       "  <thead>\n",
       "    <tr style=\"text-align: right;\">\n",
       "      <th></th>\n",
       "      <th>Unnamed: 0</th>\n",
       "      <th>myP</th>\n",
       "      <th>myDiff</th>\n",
       "    </tr>\n",
       "  </thead>\n",
       "  <tbody>\n",
       "    <tr>\n",
       "      <th>0</th>\n",
       "      <td>VIM</td>\n",
       "      <td>0.000000e+00</td>\n",
       "      <td>3.399495</td>\n",
       "    </tr>\n",
       "    <tr>\n",
       "      <th>1</th>\n",
       "      <td>NDRG1</td>\n",
       "      <td>0.000000e+00</td>\n",
       "      <td>3.258577</td>\n",
       "    </tr>\n",
       "    <tr>\n",
       "      <th>2</th>\n",
       "      <td>SEPT4</td>\n",
       "      <td>0.000000e+00</td>\n",
       "      <td>2.984931</td>\n",
       "    </tr>\n",
       "    <tr>\n",
       "      <th>3</th>\n",
       "      <td>CALB1</td>\n",
       "      <td>0.000000e+00</td>\n",
       "      <td>2.978919</td>\n",
       "    </tr>\n",
       "    <tr>\n",
       "      <th>4</th>\n",
       "      <td>TFAP2B</td>\n",
       "      <td>0.000000e+00</td>\n",
       "      <td>2.829322</td>\n",
       "    </tr>\n",
       "  </tbody>\n",
       "</table>\n",
       "</div>"
      ],
      "text/plain": [
       "  Unnamed: 0           myP    myDiff\n",
       "0        VIM  0.000000e+00  3.399495\n",
       "1      NDRG1  0.000000e+00  3.258577\n",
       "2      SEPT4  0.000000e+00  2.984931\n",
       "3      CALB1  0.000000e+00  2.978919\n",
       "4     TFAP2B  0.000000e+00  2.829322"
      ]
     },
     "execution_count": 9,
     "metadata": {},
     "output_type": "execute_result"
    }
   ],
   "source": [
    "filename = os.path.join(input_folder, 'mmc4_v2.xlsx')\n",
    "\n",
    "pairwise_markers = pd.read_excel(filename,\n",
    "                                sheetname='PAIRWISE_MARKERS_FINAL.txt',\n",
    "                                skiprows=3)\n",
    "print(pairwise_markers.shape)\n",
    "pairwise_markers.head()"
   ]
  },
  {
   "cell_type": "code",
   "execution_count": null,
   "metadata": {
    "collapsed": true
   },
   "outputs": [],
   "source": []
  }
 ],
 "metadata": {
  "kernelspec": {
   "display_name": "Python (macosko2015-env)",
   "language": "python",
   "name": "macosko2015-env"
  },
  "language_info": {
   "codemirror_mode": {
    "name": "ipython",
    "version": 3
   },
   "file_extension": ".py",
   "mimetype": "text/x-python",
   "name": "python",
   "nbconvert_exporter": "python",
   "pygments_lexer": "ipython3",
   "version": "3.6.1"
  }
 },
 "nbformat": 4,
 "nbformat_minor": 2
}
