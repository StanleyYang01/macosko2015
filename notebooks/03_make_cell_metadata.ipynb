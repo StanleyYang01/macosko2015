{
 "cells": [
  {
   "cell_type": "markdown",
   "metadata": {},
   "source": [
    "# Clean Cluster Assignments\n",
    "\n",
    "The purpose of this notebook is to clean the cluster assignments (cell metadata) of each cell (barcode). This data was downloaded from the McCarroll Lab's Drop-Seq [website](http://mccarrolllab.com/dropseq/)."
   ]
  },
  {
   "cell_type": "code",
   "execution_count": 1,
   "metadata": {},
   "outputs": [
    {
     "name": "stdout",
     "output_type": "stream",
     "text": [
      "Figure folder: ../figures/03_make_cell_metadata\n",
      "Data folder: ../data/03_make_cell_metadata\n"
     ]
    }
   ],
   "source": [
    "import os\n",
    "import common\n",
    "\n",
    "# Assign notebook and folder names\n",
    "notebook_name = '03_make_cell_metadata'\n",
    "figure_folder = os.path.join(common.FIGURE_FOLDER, notebook_name)\n",
    "data_folder = os.path.join(common.DATA_FOLDER, notebook_name)\n",
    "print('Figure folder:', figure_folder)\n",
    "print('Data folder:', data_folder)\n",
    "\n",
    "# Make the folders\n",
    "! mkdir -p $figure_folder\n",
    "! mkdir -p $data_folder"
   ]
  },
  {
   "cell_type": "code",
   "execution_count": 2,
   "metadata": {
    "collapsed": true
   },
   "outputs": [],
   "source": [
    "%load_ext autoreload\n",
    "%autoreload 2\n",
    "\n",
    "import numpy as np\n",
    "import matplotlib.pyplot as plt\n",
    "import pandas as pd\n",
    "import seaborn as sns\n",
    "%matplotlib inline"
   ]
  },
  {
   "cell_type": "code",
   "execution_count": 3,
   "metadata": {
    "collapsed": true
   },
   "outputs": [],
   "source": [
    "input_folder = os.path.join(common.DATA_FOLDER, '00_original')"
   ]
  },
  {
   "cell_type": "code",
   "execution_count": 4,
   "metadata": {},
   "outputs": [
    {
     "name": "stdout",
     "output_type": "stream",
     "text": [
      "GSM1544798_SpeciesMix_ThousandSTAMPs_HUMAN.digital_expression.txt.gz\r\n",
      "GSM1544798_SpeciesMix_ThousandSTAMPs_MOUSE.digital_expression.txt.gz\r\n",
      "GSM1544799_SpeciesMix_HundredSTAMPs_HUMAN.digital_expression.txt.gz\r\n",
      "GSM1544799_SpeciesMix_HundredSTAMPs_MOUSE.digital_expression.txt.gz\r\n",
      "GSM1626793_P14Retina_1.digital_expression.txt.gz\r\n",
      "GSM1626794_P14Retina_2.digital_expression.txt.gz\r\n",
      "GSM1626795_P14Retina_3.digital_expression.txt.gz\r\n",
      "GSM1626796_P14Retina_4.digital_expression.txt.gz\r\n",
      "GSM1626797_P14Retina_5.digital_expression.txt.gz\r\n",
      "GSM1626798_P14Retina_6.digital_expression.txt.gz\r\n",
      "GSM1626799_P14Retina_7.digital_expression.txt.gz\r\n",
      "GSM1629192_Pure_HumanMouse_HUMAN.digital_expression.txt.gz\r\n",
      "GSM1629192_Pure_HumanMouse_MOUSE.digital_expression.txt.gz\r\n",
      "GSM1629193_ERCC.digital_expression.txt.gz\r\n",
      "GSM1629193_hg19_ERCC.dict.txt.gz\r\n",
      "GSM1629193_hg19_ERCC.refFlat.txt.gz\r\n",
      "mmc1.pdf\r\n",
      "mmc2.xlsx\r\n",
      "mmc3.xlsx\r\n",
      "mmc4.xlsx\r\n",
      "mmc4_v2.xlsx\r\n",
      "retina_clusteridentities.txt\r\n",
      "~$mmc4_v2.xlsx\r\n"
     ]
    }
   ],
   "source": [
    "ls $input_folder"
   ]
  },
  {
   "cell_type": "code",
   "execution_count": 5,
   "metadata": {},
   "outputs": [
    {
     "data": {
      "text/plain": [
       "'../data/00_original/retina_clusteridentities.txt'"
      ]
     },
     "execution_count": 5,
     "metadata": {},
     "output_type": "execute_result"
    }
   ],
   "source": [
    "input_folder = os.path.join(common.DATA_FOLDER, '00_original')\n",
    "\n",
    "filename = os.path.join(input_folder, 'retina_clusteridentities.txt')\n",
    "filename"
   ]
  },
  {
   "cell_type": "code",
   "execution_count": 6,
   "metadata": {},
   "outputs": [
    {
     "data": {
      "text/plain": [
       "cell\n",
       "r1_GGCCGCAGTCCG     2\n",
       "r1_CTTGTGCGGGAA     2\n",
       "r1_GCGCAACTGCTC     2\n",
       "r1_GATTGGGAGGCA     2\n",
       "r1_GTGCCGCCTCTC    25\n",
       "Name: cluster_n, dtype: int64"
      ]
     },
     "execution_count": 6,
     "metadata": {},
     "output_type": "execute_result"
    }
   ],
   "source": [
    "cluster_n = pd.read_table(filename, squeeze=True, header=None, index_col=0)\n",
    "cluster_n.name = 'cluster_n'\n",
    "cluster_n.index.name = 'cell'\n",
    "cluster_n.head()"
   ]
  },
  {
   "cell_type": "code",
   "execution_count": 7,
   "metadata": {},
   "outputs": [
    {
     "data": {
      "text/plain": [
       "Index(['r1', 'r2', 'r3', 'r4', 'r5', 'r6', 'p1'], dtype='object', name='cell')"
      ]
     },
     "execution_count": 7,
     "metadata": {},
     "output_type": "execute_result"
    }
   ],
   "source": [
    "prefixes = cluster_n.index.map(lambda x: x.split('_')[0]).unique()\n",
    "prefixes"
   ]
  },
  {
   "cell_type": "code",
   "execution_count": 8,
   "metadata": {},
   "outputs": [
    {
     "data": {
      "text/plain": [
       "cell\n",
       "p1_TCAAAAGCCGGG    24\n",
       "p1_ATTAAGTTCCAA    34\n",
       "p1_CTGTCTGAGACC     2\n",
       "p1_TAACGCGCTCCT    24\n",
       "p1_ATTCTTGTTCTT    24\n",
       "Name: cluster_n, dtype: int64"
      ]
     },
     "execution_count": 8,
     "metadata": {},
     "output_type": "execute_result"
    }
   ],
   "source": [
    "cluster_n.tail()"
   ]
  },
  {
   "cell_type": "code",
   "execution_count": 9,
   "metadata": {},
   "outputs": [
    {
     "data": {
      "text/plain": [
       "0"
      ]
     },
     "execution_count": 9,
     "metadata": {},
     "output_type": "execute_result"
    }
   ],
   "source": [
    "cluster_n.index.duplicated().sum()"
   ]
  },
  {
   "cell_type": "markdown",
   "metadata": {},
   "source": [
    "Actually don't want to strip the prefixes of the barcodes because they indicate the run"
   ]
  },
  {
   "cell_type": "code",
   "execution_count": 10,
   "metadata": {
    "collapsed": true
   },
   "outputs": [],
   "source": [
    "# cluster_ids.index = cluster_names.index.map(lambda x: x.split('_')[1])\n",
    "# cluster_ids.head()"
   ]
  },
  {
   "cell_type": "code",
   "execution_count": 12,
   "metadata": {},
   "outputs": [
    {
     "name": "stdout",
     "output_type": "stream",
     "text": [
      "cell,cluster_n\r\n",
      "r1_GGCCGCAGTCCG,2\r\n",
      "r1_CTTGTGCGGGAA,2\r\n",
      "r1_GCGCAACTGCTC,2\r\n",
      "r1_GATTGGGAGGCA,2\r\n",
      "r1_GTGCCGCCTCTC,25\r\n",
      "r1_CCTGTGACACAC,2\r\n",
      "r1_AATCTCGTTAAT,2\r\n",
      "r1_GATTTCCTCTGA,1\r\n",
      "r1_GAAGGCTGGAAC,2\r\n"
     ]
    }
   ],
   "source": [
    "csv = os.path.join(data_folder, 'cluster_n.csv')\n",
    "cluster_n.to_csv(csv, header=True)\n",
    "! head $csv"
   ]
  },
  {
   "cell_type": "code",
   "execution_count": 16,
   "metadata": {},
   "outputs": [
    {
     "data": {
      "text/plain": [
       "cell\n",
       "r1_GGCCGCAGTCCG    cluster_02\n",
       "r1_CTTGTGCGGGAA    cluster_02\n",
       "r1_GCGCAACTGCTC    cluster_02\n",
       "r1_GATTGGGAGGCA    cluster_02\n",
       "r1_GTGCCGCCTCTC    cluster_25\n",
       "Name: cluster_id, dtype: object"
      ]
     },
     "execution_count": 16,
     "metadata": {},
     "output_type": "execute_result"
    }
   ],
   "source": [
    "cluster_ids = 'cluster_' + cluster_n.astype(str).str.zfill(2)\n",
    "cluster_ids.name = 'cluster_id'\n",
    "cluster_ids.head()"
   ]
  },
  {
   "cell_type": "markdown",
   "metadata": {},
   "source": [
    "### Add biological group of cluster"
   ]
  },
  {
   "cell_type": "code",
   "execution_count": 17,
   "metadata": {},
   "outputs": [
    {
     "data": {
      "text/plain": [
       "cluster_id\n",
       "cluster_01          Horizontal cells\n",
       "cluster_02    Retinal ganglion cells\n",
       "cluster_03            Amacrine cells\n",
       "cluster_04            Amacrine cells\n",
       "cluster_05            Amacrine cells\n",
       "Name: celltype, dtype: object"
      ]
     },
     "execution_count": 17,
     "metadata": {},
     "output_type": "execute_result"
    }
   ],
   "source": [
    "celltype_folder = os.path.join(common.DATA_FOLDER, \n",
    "                               '02_make_celltype_metadata')\n",
    "csv = os.path.join(celltype_folder, 'cluster_ids_to_celltypes.csv')\n",
    "celltypes = pd.read_csv(csv, index_col=0, squeeze=True)\n",
    "celltypes.head()"
   ]
  },
  {
   "cell_type": "code",
   "execution_count": 19,
   "metadata": {},
   "outputs": [
    {
     "name": "stdout",
     "output_type": "stream",
     "text": [
      "(44808, 2)\n"
     ]
    },
    {
     "data": {
      "text/html": [
       "<div>\n",
       "<style>\n",
       "    .dataframe thead tr:only-child th {\n",
       "        text-align: right;\n",
       "    }\n",
       "\n",
       "    .dataframe thead th {\n",
       "        text-align: left;\n",
       "    }\n",
       "\n",
       "    .dataframe tbody tr th {\n",
       "        vertical-align: top;\n",
       "    }\n",
       "</style>\n",
       "<table border=\"1\" class=\"dataframe\">\n",
       "  <thead>\n",
       "    <tr style=\"text-align: right;\">\n",
       "      <th></th>\n",
       "      <th>cluster_id</th>\n",
       "      <th>celltype</th>\n",
       "    </tr>\n",
       "    <tr>\n",
       "      <th>cell</th>\n",
       "      <th></th>\n",
       "      <th></th>\n",
       "    </tr>\n",
       "  </thead>\n",
       "  <tbody>\n",
       "    <tr>\n",
       "      <th>r1_GGCCGCAGTCCG</th>\n",
       "      <td>cluster_02</td>\n",
       "      <td>Retinal ganglion cells</td>\n",
       "    </tr>\n",
       "    <tr>\n",
       "      <th>r1_CTTGTGCGGGAA</th>\n",
       "      <td>cluster_02</td>\n",
       "      <td>Retinal ganglion cells</td>\n",
       "    </tr>\n",
       "    <tr>\n",
       "      <th>r1_GCGCAACTGCTC</th>\n",
       "      <td>cluster_02</td>\n",
       "      <td>Retinal ganglion cells</td>\n",
       "    </tr>\n",
       "    <tr>\n",
       "      <th>r1_GATTGGGAGGCA</th>\n",
       "      <td>cluster_02</td>\n",
       "      <td>Retinal ganglion cells</td>\n",
       "    </tr>\n",
       "    <tr>\n",
       "      <th>r1_GTGCCGCCTCTC</th>\n",
       "      <td>cluster_25</td>\n",
       "      <td>Cones</td>\n",
       "    </tr>\n",
       "  </tbody>\n",
       "</table>\n",
       "</div>"
      ],
      "text/plain": [
       "                 cluster_id                celltype\n",
       "cell                                               \n",
       "r1_GGCCGCAGTCCG  cluster_02  Retinal ganglion cells\n",
       "r1_CTTGTGCGGGAA  cluster_02  Retinal ganglion cells\n",
       "r1_GCGCAACTGCTC  cluster_02  Retinal ganglion cells\n",
       "r1_GATTGGGAGGCA  cluster_02  Retinal ganglion cells\n",
       "r1_GTGCCGCCTCTC  cluster_25                   Cones"
      ]
     },
     "execution_count": 19,
     "metadata": {},
     "output_type": "execute_result"
    }
   ],
   "source": [
    "cluster_ids_df = cluster_ids.to_frame()\n",
    "cluster_ids_df = cluster_ids_df.join(celltypes, on='cluster_id')\n",
    "print(cluster_ids_df.shape)\n",
    "cluster_ids_df.head()"
   ]
  },
  {
   "cell_type": "markdown",
   "metadata": {},
   "source": [
    "### Add integer id to clusters"
   ]
  },
  {
   "cell_type": "code",
   "execution_count": 20,
   "metadata": {},
   "outputs": [
    {
     "name": "stdout",
     "output_type": "stream",
     "text": [
      "(44808, 3)\n"
     ]
    },
    {
     "data": {
      "text/html": [
       "<div>\n",
       "<style>\n",
       "    .dataframe thead tr:only-child th {\n",
       "        text-align: right;\n",
       "    }\n",
       "\n",
       "    .dataframe thead th {\n",
       "        text-align: left;\n",
       "    }\n",
       "\n",
       "    .dataframe tbody tr th {\n",
       "        vertical-align: top;\n",
       "    }\n",
       "</style>\n",
       "<table border=\"1\" class=\"dataframe\">\n",
       "  <thead>\n",
       "    <tr style=\"text-align: right;\">\n",
       "      <th></th>\n",
       "      <th>cluster_id</th>\n",
       "      <th>celltype</th>\n",
       "      <th>cluster_n</th>\n",
       "    </tr>\n",
       "    <tr>\n",
       "      <th>cell</th>\n",
       "      <th></th>\n",
       "      <th></th>\n",
       "      <th></th>\n",
       "    </tr>\n",
       "  </thead>\n",
       "  <tbody>\n",
       "    <tr>\n",
       "      <th>r1_GGCCGCAGTCCG</th>\n",
       "      <td>cluster_02</td>\n",
       "      <td>Retinal ganglion cells</td>\n",
       "      <td>2</td>\n",
       "    </tr>\n",
       "    <tr>\n",
       "      <th>r1_CTTGTGCGGGAA</th>\n",
       "      <td>cluster_02</td>\n",
       "      <td>Retinal ganglion cells</td>\n",
       "      <td>2</td>\n",
       "    </tr>\n",
       "    <tr>\n",
       "      <th>r1_GCGCAACTGCTC</th>\n",
       "      <td>cluster_02</td>\n",
       "      <td>Retinal ganglion cells</td>\n",
       "      <td>2</td>\n",
       "    </tr>\n",
       "    <tr>\n",
       "      <th>r1_GATTGGGAGGCA</th>\n",
       "      <td>cluster_02</td>\n",
       "      <td>Retinal ganglion cells</td>\n",
       "      <td>2</td>\n",
       "    </tr>\n",
       "    <tr>\n",
       "      <th>r1_GTGCCGCCTCTC</th>\n",
       "      <td>cluster_25</td>\n",
       "      <td>Cones</td>\n",
       "      <td>25</td>\n",
       "    </tr>\n",
       "  </tbody>\n",
       "</table>\n",
       "</div>"
      ],
      "text/plain": [
       "                 cluster_id                celltype  cluster_n\n",
       "cell                                                          \n",
       "r1_GGCCGCAGTCCG  cluster_02  Retinal ganglion cells          2\n",
       "r1_CTTGTGCGGGAA  cluster_02  Retinal ganglion cells          2\n",
       "r1_GCGCAACTGCTC  cluster_02  Retinal ganglion cells          2\n",
       "r1_GATTGGGAGGCA  cluster_02  Retinal ganglion cells          2\n",
       "r1_GTGCCGCCTCTC  cluster_25                   Cones         25"
      ]
     },
     "execution_count": 20,
     "metadata": {},
     "output_type": "execute_result"
    }
   ],
   "source": [
    "cluster_ids_df = cluster_ids_df.join(cluster_n)\n",
    "print(cluster_ids_df.shape)\n",
    "cluster_ids_df.head()"
   ]
  },
  {
   "cell_type": "markdown",
   "metadata": {},
   "source": [
    "### Add subgroup to cluster "
   ]
  },
  {
   "cell_type": "code",
   "execution_count": 26,
   "metadata": {},
   "outputs": [
    {
     "name": "stdout",
     "output_type": "stream",
     "text": [
      "(44808, 4)\n"
     ]
    },
    {
     "data": {
      "text/html": [
       "<div>\n",
       "<style>\n",
       "    .dataframe thead tr:only-child th {\n",
       "        text-align: right;\n",
       "    }\n",
       "\n",
       "    .dataframe thead th {\n",
       "        text-align: left;\n",
       "    }\n",
       "\n",
       "    .dataframe tbody tr th {\n",
       "        vertical-align: top;\n",
       "    }\n",
       "</style>\n",
       "<table border=\"1\" class=\"dataframe\">\n",
       "  <thead>\n",
       "    <tr style=\"text-align: right;\">\n",
       "      <th></th>\n",
       "      <th>cluster_id</th>\n",
       "      <th>celltype</th>\n",
       "      <th>cluster_n</th>\n",
       "      <th>cluster_celltype_with_id</th>\n",
       "    </tr>\n",
       "    <tr>\n",
       "      <th>cell</th>\n",
       "      <th></th>\n",
       "      <th></th>\n",
       "      <th></th>\n",
       "      <th></th>\n",
       "    </tr>\n",
       "  </thead>\n",
       "  <tbody>\n",
       "    <tr>\n",
       "      <th>r1_GGCCGCAGTCCG</th>\n",
       "      <td>cluster_02</td>\n",
       "      <td>Retinal ganglion cells</td>\n",
       "      <td>2</td>\n",
       "      <td>Retinal ganglion cells (cluster_02)</td>\n",
       "    </tr>\n",
       "    <tr>\n",
       "      <th>r1_CTTGTGCGGGAA</th>\n",
       "      <td>cluster_02</td>\n",
       "      <td>Retinal ganglion cells</td>\n",
       "      <td>2</td>\n",
       "      <td>Retinal ganglion cells (cluster_02)</td>\n",
       "    </tr>\n",
       "    <tr>\n",
       "      <th>r1_GCGCAACTGCTC</th>\n",
       "      <td>cluster_02</td>\n",
       "      <td>Retinal ganglion cells</td>\n",
       "      <td>2</td>\n",
       "      <td>Retinal ganglion cells (cluster_02)</td>\n",
       "    </tr>\n",
       "    <tr>\n",
       "      <th>r1_GATTGGGAGGCA</th>\n",
       "      <td>cluster_02</td>\n",
       "      <td>Retinal ganglion cells</td>\n",
       "      <td>2</td>\n",
       "      <td>Retinal ganglion cells (cluster_02)</td>\n",
       "    </tr>\n",
       "    <tr>\n",
       "      <th>r1_GTGCCGCCTCTC</th>\n",
       "      <td>cluster_25</td>\n",
       "      <td>Cones</td>\n",
       "      <td>25</td>\n",
       "      <td>Cones (cluster_25)</td>\n",
       "    </tr>\n",
       "  </tbody>\n",
       "</table>\n",
       "</div>"
      ],
      "text/plain": [
       "                 cluster_id                celltype  cluster_n  \\\n",
       "cell                                                             \n",
       "r1_GGCCGCAGTCCG  cluster_02  Retinal ganglion cells          2   \n",
       "r1_CTTGTGCGGGAA  cluster_02  Retinal ganglion cells          2   \n",
       "r1_GCGCAACTGCTC  cluster_02  Retinal ganglion cells          2   \n",
       "r1_GATTGGGAGGCA  cluster_02  Retinal ganglion cells          2   \n",
       "r1_GTGCCGCCTCTC  cluster_25                   Cones         25   \n",
       "\n",
       "                            cluster_celltype_with_id  \n",
       "cell                                                  \n",
       "r1_GGCCGCAGTCCG  Retinal ganglion cells (cluster_02)  \n",
       "r1_CTTGTGCGGGAA  Retinal ganglion cells (cluster_02)  \n",
       "r1_GCGCAACTGCTC  Retinal ganglion cells (cluster_02)  \n",
       "r1_GATTGGGAGGCA  Retinal ganglion cells (cluster_02)  \n",
       "r1_GTGCCGCCTCTC                   Cones (cluster_25)  "
      ]
     },
     "execution_count": 26,
     "metadata": {},
     "output_type": "execute_result"
    }
   ],
   "source": [
    "cluster_ids_df['cluster_celltype_with_id'] = cluster_ids_df.apply(\n",
    "    lambda x: '{celltype} ({cluster_id})'.format(**x), axis=1)\n",
    "print(cluster_ids_df.shape)\n",
    "cluster_ids_df.head()"
   ]
  },
  {
   "cell_type": "markdown",
   "metadata": {},
   "source": [
    "### Write to CSV"
   ]
  },
  {
   "cell_type": "code",
   "execution_count": 28,
   "metadata": {},
   "outputs": [
    {
     "name": "stdout",
     "output_type": "stream",
     "text": [
      "cell,cluster_id,celltype,cluster_n,cluster_celltype_with_id\r\n",
      "r1_GGCCGCAGTCCG,cluster_02,Retinal ganglion cells,2,Retinal ganglion cells (cluster_02)\r\n",
      "r1_CTTGTGCGGGAA,cluster_02,Retinal ganglion cells,2,Retinal ganglion cells (cluster_02)\r\n",
      "r1_GCGCAACTGCTC,cluster_02,Retinal ganglion cells,2,Retinal ganglion cells (cluster_02)\r\n",
      "r1_GATTGGGAGGCA,cluster_02,Retinal ganglion cells,2,Retinal ganglion cells (cluster_02)\r\n",
      "r1_GTGCCGCCTCTC,cluster_25,Cones,25,Cones (cluster_25)\r\n",
      "r1_CCTGTGACACAC,cluster_02,Retinal ganglion cells,2,Retinal ganglion cells (cluster_02)\r\n",
      "r1_AATCTCGTTAAT,cluster_02,Retinal ganglion cells,2,Retinal ganglion cells (cluster_02)\r\n",
      "r1_GATTTCCTCTGA,cluster_01,Horizontal cells,1,Horizontal cells (cluster_01)\r\n",
      "r1_GAAGGCTGGAAC,cluster_02,Retinal ganglion cells,2,Retinal ganglion cells (cluster_02)\r\n"
     ]
    }
   ],
   "source": [
    "csv = os.path.join(data_folder, 'cell_metadata.csv')\n",
    "cluster_ids_df.to_csv(csv, header=True)\n",
    "! head $csv"
   ]
  },
  {
   "cell_type": "markdown",
   "metadata": {},
   "source": [
    "## Convert to boolean matrix so it's compatible with xarray"
   ]
  },
  {
   "cell_type": "code",
   "execution_count": 29,
   "metadata": {},
   "outputs": [
    {
     "data": {
      "text/html": [
       "<div>\n",
       "<style>\n",
       "    .dataframe thead tr:only-child th {\n",
       "        text-align: right;\n",
       "    }\n",
       "\n",
       "    .dataframe thead th {\n",
       "        text-align: left;\n",
       "    }\n",
       "\n",
       "    .dataframe tbody tr th {\n",
       "        vertical-align: top;\n",
       "    }\n",
       "</style>\n",
       "<table border=\"1\" class=\"dataframe\">\n",
       "  <thead>\n",
       "    <tr style=\"text-align: right;\">\n",
       "      <th></th>\n",
       "      <th>cluster_01</th>\n",
       "      <th>cluster_02</th>\n",
       "      <th>cluster_03</th>\n",
       "      <th>cluster_04</th>\n",
       "      <th>cluster_05</th>\n",
       "      <th>cluster_06</th>\n",
       "      <th>cluster_07</th>\n",
       "      <th>cluster_08</th>\n",
       "      <th>cluster_09</th>\n",
       "      <th>cluster_10</th>\n",
       "      <th>...</th>\n",
       "      <th>cluster_30</th>\n",
       "      <th>cluster_31</th>\n",
       "      <th>cluster_32</th>\n",
       "      <th>cluster_33</th>\n",
       "      <th>cluster_34</th>\n",
       "      <th>cluster_35</th>\n",
       "      <th>cluster_36</th>\n",
       "      <th>cluster_37</th>\n",
       "      <th>cluster_38</th>\n",
       "      <th>cluster_39</th>\n",
       "    </tr>\n",
       "    <tr>\n",
       "      <th>cell</th>\n",
       "      <th></th>\n",
       "      <th></th>\n",
       "      <th></th>\n",
       "      <th></th>\n",
       "      <th></th>\n",
       "      <th></th>\n",
       "      <th></th>\n",
       "      <th></th>\n",
       "      <th></th>\n",
       "      <th></th>\n",
       "      <th></th>\n",
       "      <th></th>\n",
       "      <th></th>\n",
       "      <th></th>\n",
       "      <th></th>\n",
       "      <th></th>\n",
       "      <th></th>\n",
       "      <th></th>\n",
       "      <th></th>\n",
       "      <th></th>\n",
       "      <th></th>\n",
       "    </tr>\n",
       "  </thead>\n",
       "  <tbody>\n",
       "    <tr>\n",
       "      <th>r1_GGCCGCAGTCCG</th>\n",
       "      <td>0</td>\n",
       "      <td>1</td>\n",
       "      <td>0</td>\n",
       "      <td>0</td>\n",
       "      <td>0</td>\n",
       "      <td>0</td>\n",
       "      <td>0</td>\n",
       "      <td>0</td>\n",
       "      <td>0</td>\n",
       "      <td>0</td>\n",
       "      <td>...</td>\n",
       "      <td>0</td>\n",
       "      <td>0</td>\n",
       "      <td>0</td>\n",
       "      <td>0</td>\n",
       "      <td>0</td>\n",
       "      <td>0</td>\n",
       "      <td>0</td>\n",
       "      <td>0</td>\n",
       "      <td>0</td>\n",
       "      <td>0</td>\n",
       "    </tr>\n",
       "    <tr>\n",
       "      <th>r1_CTTGTGCGGGAA</th>\n",
       "      <td>0</td>\n",
       "      <td>1</td>\n",
       "      <td>0</td>\n",
       "      <td>0</td>\n",
       "      <td>0</td>\n",
       "      <td>0</td>\n",
       "      <td>0</td>\n",
       "      <td>0</td>\n",
       "      <td>0</td>\n",
       "      <td>0</td>\n",
       "      <td>...</td>\n",
       "      <td>0</td>\n",
       "      <td>0</td>\n",
       "      <td>0</td>\n",
       "      <td>0</td>\n",
       "      <td>0</td>\n",
       "      <td>0</td>\n",
       "      <td>0</td>\n",
       "      <td>0</td>\n",
       "      <td>0</td>\n",
       "      <td>0</td>\n",
       "    </tr>\n",
       "    <tr>\n",
       "      <th>r1_GCGCAACTGCTC</th>\n",
       "      <td>0</td>\n",
       "      <td>1</td>\n",
       "      <td>0</td>\n",
       "      <td>0</td>\n",
       "      <td>0</td>\n",
       "      <td>0</td>\n",
       "      <td>0</td>\n",
       "      <td>0</td>\n",
       "      <td>0</td>\n",
       "      <td>0</td>\n",
       "      <td>...</td>\n",
       "      <td>0</td>\n",
       "      <td>0</td>\n",
       "      <td>0</td>\n",
       "      <td>0</td>\n",
       "      <td>0</td>\n",
       "      <td>0</td>\n",
       "      <td>0</td>\n",
       "      <td>0</td>\n",
       "      <td>0</td>\n",
       "      <td>0</td>\n",
       "    </tr>\n",
       "    <tr>\n",
       "      <th>r1_GATTGGGAGGCA</th>\n",
       "      <td>0</td>\n",
       "      <td>1</td>\n",
       "      <td>0</td>\n",
       "      <td>0</td>\n",
       "      <td>0</td>\n",
       "      <td>0</td>\n",
       "      <td>0</td>\n",
       "      <td>0</td>\n",
       "      <td>0</td>\n",
       "      <td>0</td>\n",
       "      <td>...</td>\n",
       "      <td>0</td>\n",
       "      <td>0</td>\n",
       "      <td>0</td>\n",
       "      <td>0</td>\n",
       "      <td>0</td>\n",
       "      <td>0</td>\n",
       "      <td>0</td>\n",
       "      <td>0</td>\n",
       "      <td>0</td>\n",
       "      <td>0</td>\n",
       "    </tr>\n",
       "    <tr>\n",
       "      <th>r1_GTGCCGCCTCTC</th>\n",
       "      <td>0</td>\n",
       "      <td>0</td>\n",
       "      <td>0</td>\n",
       "      <td>0</td>\n",
       "      <td>0</td>\n",
       "      <td>0</td>\n",
       "      <td>0</td>\n",
       "      <td>0</td>\n",
       "      <td>0</td>\n",
       "      <td>0</td>\n",
       "      <td>...</td>\n",
       "      <td>0</td>\n",
       "      <td>0</td>\n",
       "      <td>0</td>\n",
       "      <td>0</td>\n",
       "      <td>0</td>\n",
       "      <td>0</td>\n",
       "      <td>0</td>\n",
       "      <td>0</td>\n",
       "      <td>0</td>\n",
       "      <td>0</td>\n",
       "    </tr>\n",
       "  </tbody>\n",
       "</table>\n",
       "<p>5 rows × 39 columns</p>\n",
       "</div>"
      ],
      "text/plain": [
       "                 cluster_01  cluster_02  cluster_03  cluster_04  cluster_05  \\\n",
       "cell                                                                          \n",
       "r1_GGCCGCAGTCCG           0           1           0           0           0   \n",
       "r1_CTTGTGCGGGAA           0           1           0           0           0   \n",
       "r1_GCGCAACTGCTC           0           1           0           0           0   \n",
       "r1_GATTGGGAGGCA           0           1           0           0           0   \n",
       "r1_GTGCCGCCTCTC           0           0           0           0           0   \n",
       "\n",
       "                 cluster_06  cluster_07  cluster_08  cluster_09  cluster_10  \\\n",
       "cell                                                                          \n",
       "r1_GGCCGCAGTCCG           0           0           0           0           0   \n",
       "r1_CTTGTGCGGGAA           0           0           0           0           0   \n",
       "r1_GCGCAACTGCTC           0           0           0           0           0   \n",
       "r1_GATTGGGAGGCA           0           0           0           0           0   \n",
       "r1_GTGCCGCCTCTC           0           0           0           0           0   \n",
       "\n",
       "                    ...      cluster_30  cluster_31  cluster_32  cluster_33  \\\n",
       "cell                ...                                                       \n",
       "r1_GGCCGCAGTCCG     ...               0           0           0           0   \n",
       "r1_CTTGTGCGGGAA     ...               0           0           0           0   \n",
       "r1_GCGCAACTGCTC     ...               0           0           0           0   \n",
       "r1_GATTGGGAGGCA     ...               0           0           0           0   \n",
       "r1_GTGCCGCCTCTC     ...               0           0           0           0   \n",
       "\n",
       "                 cluster_34  cluster_35  cluster_36  cluster_37  cluster_38  \\\n",
       "cell                                                                          \n",
       "r1_GGCCGCAGTCCG           0           0           0           0           0   \n",
       "r1_CTTGTGCGGGAA           0           0           0           0           0   \n",
       "r1_GCGCAACTGCTC           0           0           0           0           0   \n",
       "r1_GATTGGGAGGCA           0           0           0           0           0   \n",
       "r1_GTGCCGCCTCTC           0           0           0           0           0   \n",
       "\n",
       "                 cluster_39  \n",
       "cell                         \n",
       "r1_GGCCGCAGTCCG           0  \n",
       "r1_CTTGTGCGGGAA           0  \n",
       "r1_GCGCAACTGCTC           0  \n",
       "r1_GATTGGGAGGCA           0  \n",
       "r1_GTGCCGCCTCTC           0  \n",
       "\n",
       "[5 rows x 39 columns]"
      ]
     },
     "execution_count": 29,
     "metadata": {},
     "output_type": "execute_result"
    }
   ],
   "source": [
    "cluster_bools = pd.get_dummies(cluster_ids)\n",
    "cluster_bools.head()"
   ]
  },
  {
   "cell_type": "code",
   "execution_count": 30,
   "metadata": {},
   "outputs": [
    {
     "name": "stdout",
     "output_type": "stream",
     "text": [
      "cell,cluster_01,cluster_02,cluster_03,cluster_04,cluster_05,cluster_06,cluster_07,cluster_08,cluster_09,cluster_10,cluster_11,cluster_12,cluster_13,cluster_14,cluster_15,cluster_16,cluster_17,cluster_18,cluster_19,cluster_20,cluster_21,cluster_22,cluster_23,cluster_24,cluster_25,cluster_26,cluster_27,cluster_28,cluster_29,cluster_30,cluster_31,cluster_32,cluster_33,cluster_34,cluster_35,cluster_36,cluster_37,cluster_38,cluster_39\r\n",
      "r1_GGCCGCAGTCCG,0,1,0,0,0,0,0,0,0,0,0,0,0,0,0,0,0,0,0,0,0,0,0,0,0,0,0,0,0,0,0,0,0,0,0,0,0,0,0\r\n",
      "r1_CTTGTGCGGGAA,0,1,0,0,0,0,0,0,0,0,0,0,0,0,0,0,0,0,0,0,0,0,0,0,0,0,0,0,0,0,0,0,0,0,0,0,0,0,0\r\n",
      "r1_GCGCAACTGCTC,0,1,0,0,0,0,0,0,0,0,0,0,0,0,0,0,0,0,0,0,0,0,0,0,0,0,0,0,0,0,0,0,0,0,0,0,0,0,0\r\n",
      "r1_GATTGGGAGGCA,0,1,0,0,0,0,0,0,0,0,0,0,0,0,0,0,0,0,0,0,0,0,0,0,0,0,0,0,0,0,0,0,0,0,0,0,0,0,0\r\n",
      "r1_GTGCCGCCTCTC,0,0,0,0,0,0,0,0,0,0,0,0,0,0,0,0,0,0,0,0,0,0,0,0,1,0,0,0,0,0,0,0,0,0,0,0,0,0,0\r\n",
      "r1_CCTGTGACACAC,0,1,0,0,0,0,0,0,0,0,0,0,0,0,0,0,0,0,0,0,0,0,0,0,0,0,0,0,0,0,0,0,0,0,0,0,0,0,0\r\n",
      "r1_AATCTCGTTAAT,0,1,0,0,0,0,0,0,0,0,0,0,0,0,0,0,0,0,0,0,0,0,0,0,0,0,0,0,0,0,0,0,0,0,0,0,0,0,0\r\n",
      "r1_GATTTCCTCTGA,1,0,0,0,0,0,0,0,0,0,0,0,0,0,0,0,0,0,0,0,0,0,0,0,0,0,0,0,0,0,0,0,0,0,0,0,0,0,0\r\n",
      "r1_GAAGGCTGGAAC,0,1,0,0,0,0,0,0,0,0,0,0,0,0,0,0,0,0,0,0,0,0,0,0,0,0,0,0,0,0,0,0,0,0,0,0,0,0,0\r\n"
     ]
    }
   ],
   "source": [
    "csv = os.path.join(data_folder, 'cluster_bools.csv')\n",
    "cluster_bools.to_csv(csv, header=True)\n",
    "! head $csv"
   ]
  },
  {
   "cell_type": "code",
   "execution_count": null,
   "metadata": {
    "collapsed": true
   },
   "outputs": [],
   "source": []
  }
 ],
 "metadata": {
  "kernelspec": {
   "display_name": "Python (macosko2015-env)",
   "language": "python",
   "name": "macosko2015-env"
  },
  "language_info": {
   "codemirror_mode": {
    "name": "ipython",
    "version": 3
   },
   "file_extension": ".py",
   "mimetype": "text/x-python",
   "name": "python",
   "nbconvert_exporter": "python",
   "pygments_lexer": "ipython3",
   "version": "3.6.1"
  }
 },
 "nbformat": 4,
 "nbformat_minor": 2
}
