{
 "cells": [
  {
   "cell_type": "markdown",
   "metadata": {},
   "source": [
    "# Clean Cluster Assignments\n",
    "\n",
    "The purpose of this notebook is to clean the cluster assignments (cell metadata) of each cell (barcode). This data was downloaded from the McCarroll Lab's Drop-Seq [website](http://mccarrolllab.com/dropseq/)."
   ]
  },
  {
   "cell_type": "code",
   "execution_count": 8,
   "metadata": {},
   "outputs": [
    {
     "name": "stdout",
     "output_type": "stream",
     "text": [
      "Figure folder: ../figures/03_clean_cluster_assignments\n",
      "Data folder: ../data/03_clean_cluster_assignments\n"
     ]
    }
   ],
   "source": [
    "import os\n",
    "import common\n",
    "\n",
    "# Assign notebook and folder names\n",
    "notebook_name = '03_clean_cluster_assignments'\n",
    "figure_folder = os.path.join(common.FIGURE_FOLDER, notebook_name)\n",
    "data_folder = os.path.join(common.DATA_FOLDER, notebook_name)\n",
    "print('Figure folder:', figure_folder)\n",
    "print('Data folder:', data_folder)\n",
    "\n",
    "# Make the folders\n",
    "! mkdir -p $figure_folder\n",
    "! mkdir -p $data_folder"
   ]
  },
  {
   "cell_type": "code",
   "execution_count": 9,
   "metadata": {},
   "outputs": [
    {
     "name": "stdout",
     "output_type": "stream",
     "text": [
      "The autoreload extension is already loaded. To reload it, use:\n",
      "  %reload_ext autoreload\n"
     ]
    }
   ],
   "source": [
    "%load_ext autoreload\n",
    "%autoreload 2\n",
    "\n",
    "import numpy as np\n",
    "import matplotlib.pyplot as plt\n",
    "import pandas as pd\n",
    "import seaborn as sns\n",
    "%matplotlib inline"
   ]
  },
  {
   "cell_type": "code",
   "execution_count": 10,
   "metadata": {},
   "outputs": [],
   "source": [
    "input_folder = os.path.join(common.DATA_FOLDER, '00_original')"
   ]
  },
  {
   "cell_type": "code",
   "execution_count": 11,
   "metadata": {},
   "outputs": [
    {
     "name": "stdout",
     "output_type": "stream",
     "text": [
      "GSM1544798_SpeciesMix_ThousandSTAMPs_HUMAN.digital_expression.txt.gz\r\n",
      "GSM1544798_SpeciesMix_ThousandSTAMPs_MOUSE.digital_expression.txt.gz\r\n",
      "GSM1544799_SpeciesMix_HundredSTAMPs_HUMAN.digital_expression.txt.gz\r\n",
      "GSM1544799_SpeciesMix_HundredSTAMPs_MOUSE.digital_expression.txt.gz\r\n",
      "GSM1626793_P14Retina_1.digital_expression.txt.gz\r\n",
      "GSM1626794_P14Retina_2.digital_expression.txt.gz\r\n",
      "GSM1626795_P14Retina_3.digital_expression.txt.gz\r\n",
      "GSM1626796_P14Retina_4.digital_expression.txt.gz\r\n",
      "GSM1626797_P14Retina_5.digital_expression.txt.gz\r\n",
      "GSM1626798_P14Retina_6.digital_expression.txt.gz\r\n",
      "GSM1626799_P14Retina_7.digital_expression.txt.gz\r\n",
      "GSM1629192_Pure_HumanMouse_HUMAN.digital_expression.txt.gz\r\n",
      "GSM1629192_Pure_HumanMouse_MOUSE.digital_expression.txt.gz\r\n",
      "GSM1629193_ERCC.digital_expression.txt.gz\r\n",
      "GSM1629193_hg19_ERCC.dict.txt.gz\r\n",
      "GSM1629193_hg19_ERCC.refFlat.txt.gz\r\n",
      "mmc1.pdf\r\n",
      "mmc2.xlsx\r\n",
      "mmc3.xlsx\r\n",
      "mmc4.xlsx\r\n",
      "mmc4_v2.xlsx\r\n",
      "retina_clusteridentities.txt\r\n"
     ]
    }
   ],
   "source": [
    "ls $input_folder"
   ]
  },
  {
   "cell_type": "code",
   "execution_count": 17,
   "metadata": {},
   "outputs": [
    {
     "data": {
      "text/plain": [
       "'../data/00_original/retina_clusteridentities.txt'"
      ]
     },
     "execution_count": 17,
     "metadata": {},
     "output_type": "execute_result"
    }
   ],
   "source": [
    "input_folder = os.path.join(common.DATA_FOLDER, '00_original')\n",
    "\n",
    "filename = os.path.join(input_folder, 'retina_clusteridentities.txt')\n",
    "filename"
   ]
  },
  {
   "cell_type": "code",
   "execution_count": 22,
   "metadata": {},
   "outputs": [
    {
     "data": {
      "text/plain": [
       "cell\n",
       "r1_GGCCGCAGTCCG     2\n",
       "r1_CTTGTGCGGGAA     2\n",
       "r1_GCGCAACTGCTC     2\n",
       "r1_GATTGGGAGGCA     2\n",
       "r1_GTGCCGCCTCTC    25\n",
       "Name: cluster_id, dtype: int64"
      ]
     },
     "execution_count": 22,
     "metadata": {},
     "output_type": "execute_result"
    }
   ],
   "source": [
    "cluster_ids = pd.read_table(filename, squeeze=True, header=None, index_col=0)\n",
    "cluster_ids.name = 'cluster_id'\n",
    "cluster_ids.index.name = 'cell'\n",
    "cluster_ids.head()"
   ]
  },
  {
   "cell_type": "code",
   "execution_count": 24,
   "metadata": {},
   "outputs": [
    {
     "data": {
      "text/plain": [
       "cell\n",
       "GGCCGCAGTCCG     2\n",
       "CTTGTGCGGGAA     2\n",
       "GCGCAACTGCTC     2\n",
       "GATTGGGAGGCA     2\n",
       "GTGCCGCCTCTC    25\n",
       "Name: cluster_id, dtype: int64"
      ]
     },
     "execution_count": 24,
     "metadata": {},
     "output_type": "execute_result"
    }
   ],
   "source": [
    "cluster_ids.index = cluster_ids.index.map(lambda x: x.split('_')[1])\n",
    "cluster_ids.head()"
   ]
  },
  {
   "cell_type": "code",
   "execution_count": 27,
   "metadata": {
    "collapsed": true
   },
   "outputs": [],
   "source": [
    "csv = os.path.join(data_folder, 'cluster_ids.csv')\n",
    "cluster_ids.to_csv(csv, header=True)"
   ]
  },
  {
   "cell_type": "code",
   "execution_count": 28,
   "metadata": {},
   "outputs": [
    {
     "name": "stdout",
     "output_type": "stream",
     "text": [
      "cell,cluster_id\r\n",
      "GGCCGCAGTCCG,2\r\n",
      "CTTGTGCGGGAA,2\r\n",
      "GCGCAACTGCTC,2\r\n",
      "GATTGGGAGGCA,2\r\n",
      "GTGCCGCCTCTC,25\r\n",
      "CCTGTGACACAC,2\r\n",
      "AATCTCGTTAAT,2\r\n",
      "GATTTCCTCTGA,1\r\n",
      "GAAGGCTGGAAC,2\r\n"
     ]
    }
   ],
   "source": [
    "! head $csv"
   ]
  },
  {
   "cell_type": "code",
   "execution_count": 29,
   "metadata": {},
   "outputs": [
    {
     "name": "stdout",
     "output_type": "stream",
     "text": [
      "../data/03_clean_cluster_assignments/cluster_ids.csv\r\n"
     ]
    }
   ],
   "source": [
    "ls $csv"
   ]
  },
  {
   "cell_type": "code",
   "execution_count": null,
   "metadata": {
    "collapsed": true
   },
   "outputs": [],
   "source": []
  }
 ],
 "metadata": {
  "kernelspec": {
   "display_name": "Python (macosko2015-env)",
   "language": "python",
   "name": "macosko2015-env"
  },
  "language_info": {
   "codemirror_mode": {
    "name": "ipython",
    "version": 3
   },
   "file_extension": ".py",
   "mimetype": "text/x-python",
   "name": "python",
   "nbconvert_exporter": "python",
   "pygments_lexer": "ipython3",
   "version": "3.6.1"
  }
 },
 "nbformat": 4,
 "nbformat_minor": 2
}
