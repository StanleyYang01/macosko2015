{
 "cells": [
  {
   "cell_type": "markdown",
   "metadata": {},
   "source": [
    "# Clean Cluster Assignments\n",
    "\n",
    "The purpose of this notebook is to clean the cluster assignments (cell metadata) of each cell (barcode). This data was downloaded from the McCarroll Lab's Drop-Seq [website](http://mccarrolllab.com/dropseq/)."
   ]
  },
  {
   "cell_type": "code",
   "execution_count": 8,
   "metadata": {},
   "outputs": [
    {
     "name": "stdout",
     "output_type": "stream",
     "text": [
      "Figure folder: ../figures/03_clean_cluster_assignments\n",
      "Data folder: ../data/03_clean_cluster_assignments\n"
     ]
    }
   ],
   "source": [
    "import os\n",
    "import common\n",
    "\n",
    "# Assign notebook and folder names\n",
    "notebook_name = '03_clean_cluster_assignments'\n",
    "figure_folder = os.path.join(common.FIGURE_FOLDER, notebook_name)\n",
    "data_folder = os.path.join(common.DATA_FOLDER, notebook_name)\n",
    "print('Figure folder:', figure_folder)\n",
    "print('Data folder:', data_folder)\n",
    "\n",
    "# Make the folders\n",
    "! mkdir -p $figure_folder\n",
    "! mkdir -p $data_folder"
   ]
  },
  {
   "cell_type": "code",
   "execution_count": 9,
   "metadata": {},
   "outputs": [
    {
     "name": "stdout",
     "output_type": "stream",
     "text": [
      "The autoreload extension is already loaded. To reload it, use:\n",
      "  %reload_ext autoreload\n"
     ]
    }
   ],
   "source": [
    "%load_ext autoreload\n",
    "%autoreload 2\n",
    "\n",
    "import numpy as np\n",
    "import matplotlib.pyplot as plt\n",
    "import pandas as pd\n",
    "import seaborn as sns\n",
    "%matplotlib inline"
   ]
  },
  {
   "cell_type": "code",
   "execution_count": 10,
   "metadata": {},
   "outputs": [],
   "source": [
    "input_folder = os.path.join(common.DATA_FOLDER, '00_original')"
   ]
  },
  {
   "cell_type": "code",
   "execution_count": 11,
   "metadata": {},
   "outputs": [
    {
     "name": "stdout",
     "output_type": "stream",
     "text": [
      "GSM1544798_SpeciesMix_ThousandSTAMPs_HUMAN.digital_expression.txt.gz\r\n",
      "GSM1544798_SpeciesMix_ThousandSTAMPs_MOUSE.digital_expression.txt.gz\r\n",
      "GSM1544799_SpeciesMix_HundredSTAMPs_HUMAN.digital_expression.txt.gz\r\n",
      "GSM1544799_SpeciesMix_HundredSTAMPs_MOUSE.digital_expression.txt.gz\r\n",
      "GSM1626793_P14Retina_1.digital_expression.txt.gz\r\n",
      "GSM1626794_P14Retina_2.digital_expression.txt.gz\r\n",
      "GSM1626795_P14Retina_3.digital_expression.txt.gz\r\n",
      "GSM1626796_P14Retina_4.digital_expression.txt.gz\r\n",
      "GSM1626797_P14Retina_5.digital_expression.txt.gz\r\n",
      "GSM1626798_P14Retina_6.digital_expression.txt.gz\r\n",
      "GSM1626799_P14Retina_7.digital_expression.txt.gz\r\n",
      "GSM1629192_Pure_HumanMouse_HUMAN.digital_expression.txt.gz\r\n",
      "GSM1629192_Pure_HumanMouse_MOUSE.digital_expression.txt.gz\r\n",
      "GSM1629193_ERCC.digital_expression.txt.gz\r\n",
      "GSM1629193_hg19_ERCC.dict.txt.gz\r\n",
      "GSM1629193_hg19_ERCC.refFlat.txt.gz\r\n",
      "mmc1.pdf\r\n",
      "mmc2.xlsx\r\n",
      "mmc3.xlsx\r\n",
      "mmc4.xlsx\r\n",
      "mmc4_v2.xlsx\r\n",
      "retina_clusteridentities.txt\r\n"
     ]
    }
   ],
   "source": [
    "ls $input_folder"
   ]
  },
  {
   "cell_type": "code",
   "execution_count": 17,
   "metadata": {},
   "outputs": [
    {
     "data": {
      "text/plain": [
       "'../data/00_original/retina_clusteridentities.txt'"
      ]
     },
     "execution_count": 17,
     "metadata": {},
     "output_type": "execute_result"
    }
   ],
   "source": [
    "input_folder = os.path.join(common.DATA_FOLDER, '00_original')\n",
    "\n",
    "filename = os.path.join(input_folder, 'retina_clusteridentities.txt')\n",
    "filename"
   ]
  },
  {
   "cell_type": "code",
   "execution_count": 46,
   "metadata": {},
   "outputs": [
    {
     "data": {
      "text/plain": [
       "cell\n",
       "r1_GGCCGCAGTCCG     2\n",
       "r1_CTTGTGCGGGAA     2\n",
       "r1_GCGCAACTGCTC     2\n",
       "r1_GATTGGGAGGCA     2\n",
       "r1_GTGCCGCCTCTC    25\n",
       "Name: cluster_id, dtype: int64"
      ]
     },
     "execution_count": 46,
     "metadata": {},
     "output_type": "execute_result"
    }
   ],
   "source": [
    "cluster_ids = pd.read_table(filename, squeeze=True, header=None, index_col=0)\n",
    "cluster_ids.name = 'cluster_id'\n",
    "cluster_ids.index.name = 'cell'\n",
    "cluster_ids.head()"
   ]
  },
  {
   "cell_type": "code",
   "execution_count": 49,
   "metadata": {},
   "outputs": [
    {
     "data": {
      "text/plain": [
       "Index(['r1', 'r2', 'r3', 'r4', 'r5', 'r6', 'p1'], dtype='object', name='cell')"
      ]
     },
     "execution_count": 49,
     "metadata": {},
     "output_type": "execute_result"
    }
   ],
   "source": [
    "prefixes = cluster_ids.index.map(lambda x: x.split('_')[0]).unique()\n",
    "prefixes"
   ]
  },
  {
   "cell_type": "code",
   "execution_count": 48,
   "metadata": {},
   "outputs": [
    {
     "data": {
      "text/plain": [
       "cell\n",
       "p1_TCAAAAGCCGGG    24\n",
       "p1_ATTAAGTTCCAA    34\n",
       "p1_CTGTCTGAGACC     2\n",
       "p1_TAACGCGCTCCT    24\n",
       "p1_ATTCTTGTTCTT    24\n",
       "Name: cluster_id, dtype: int64"
      ]
     },
     "execution_count": 48,
     "metadata": {},
     "output_type": "execute_result"
    }
   ],
   "source": [
    "cluster_ids.tail()"
   ]
  },
  {
   "cell_type": "code",
   "execution_count": 47,
   "metadata": {},
   "outputs": [
    {
     "data": {
      "text/plain": [
       "0"
      ]
     },
     "execution_count": 47,
     "metadata": {},
     "output_type": "execute_result"
    }
   ],
   "source": [
    "cluster_ids.index.duplicated().sum()"
   ]
  },
  {
   "cell_type": "markdown",
   "metadata": {},
   "source": [
    "Actually don't want to strip the prefixes of the barcodes because they indicate the run"
   ]
  },
  {
   "cell_type": "code",
   "execution_count": 50,
   "metadata": {},
   "outputs": [],
   "source": [
    "# cluster_ids.index = cluster_names.index.map(lambda x: x.split('_')[1])\n",
    "# cluster_ids.head()"
   ]
  },
  {
   "cell_type": "code",
   "execution_count": 51,
   "metadata": {},
   "outputs": [
    {
     "name": "stdout",
     "output_type": "stream",
     "text": [
      "cell,cluster_id\r\n",
      "r1_GGCCGCAGTCCG,2\r\n",
      "r1_CTTGTGCGGGAA,2\r\n",
      "r1_GCGCAACTGCTC,2\r\n",
      "r1_GATTGGGAGGCA,2\r\n",
      "r1_GTGCCGCCTCTC,25\r\n",
      "r1_CCTGTGACACAC,2\r\n",
      "r1_AATCTCGTTAAT,2\r\n",
      "r1_GATTTCCTCTGA,1\r\n",
      "r1_GAAGGCTGGAAC,2\r\n"
     ]
    }
   ],
   "source": [
    "csv = os.path.join(data_folder, 'cluster_ids.csv')\n",
    "cluster_ids.to_csv(csv, header=True)\n",
    "! head $csv"
   ]
  },
  {
   "cell_type": "code",
   "execution_count": 52,
   "metadata": {},
   "outputs": [
    {
     "data": {
      "text/plain": [
       "cell\n",
       "r1_GGCCGCAGTCCG    cluster_02\n",
       "r1_CTTGTGCGGGAA    cluster_02\n",
       "r1_GCGCAACTGCTC    cluster_02\n",
       "r1_GATTGGGAGGCA    cluster_02\n",
       "r1_GTGCCGCCTCTC    cluster_25\n",
       "Name: cluster_id, dtype: object"
      ]
     },
     "execution_count": 52,
     "metadata": {},
     "output_type": "execute_result"
    }
   ],
   "source": [
    "cluster_names = 'cluster_' + cluster_ids.astype(str).str.zfill(2)\n",
    "cluster_names.head()"
   ]
  },
  {
   "cell_type": "code",
   "execution_count": 53,
   "metadata": {},
   "outputs": [
    {
     "name": "stdout",
     "output_type": "stream",
     "text": [
      "cell,cluster_id\r\n",
      "r1_GGCCGCAGTCCG,cluster_02\r\n",
      "r1_CTTGTGCGGGAA,cluster_02\r\n",
      "r1_GCGCAACTGCTC,cluster_02\r\n",
      "r1_GATTGGGAGGCA,cluster_02\r\n",
      "r1_GTGCCGCCTCTC,cluster_25\r\n",
      "r1_CCTGTGACACAC,cluster_02\r\n",
      "r1_AATCTCGTTAAT,cluster_02\r\n",
      "r1_GATTTCCTCTGA,cluster_01\r\n",
      "r1_GAAGGCTGGAAC,cluster_02\r\n"
     ]
    }
   ],
   "source": [
    "csv = os.path.join(data_folder, 'cluster_names.csv')\n",
    "cluster_names.to_csv(csv, header=True)\n",
    "! head $csv"
   ]
  },
  {
   "cell_type": "markdown",
   "metadata": {},
   "source": [
    "## Convert to boolean matrix so it's compatible with xarray"
   ]
  },
  {
   "cell_type": "code",
   "execution_count": 54,
   "metadata": {},
   "outputs": [
    {
     "data": {
      "text/html": [
       "<div>\n",
       "<style>\n",
       "    .dataframe thead tr:only-child th {\n",
       "        text-align: right;\n",
       "    }\n",
       "\n",
       "    .dataframe thead th {\n",
       "        text-align: left;\n",
       "    }\n",
       "\n",
       "    .dataframe tbody tr th {\n",
       "        vertical-align: top;\n",
       "    }\n",
       "</style>\n",
       "<table border=\"1\" class=\"dataframe\">\n",
       "  <thead>\n",
       "    <tr style=\"text-align: right;\">\n",
       "      <th></th>\n",
       "      <th>cluster_01</th>\n",
       "      <th>cluster_02</th>\n",
       "      <th>cluster_03</th>\n",
       "      <th>cluster_04</th>\n",
       "      <th>cluster_05</th>\n",
       "      <th>cluster_06</th>\n",
       "      <th>cluster_07</th>\n",
       "      <th>cluster_08</th>\n",
       "      <th>cluster_09</th>\n",
       "      <th>cluster_10</th>\n",
       "      <th>...</th>\n",
       "      <th>cluster_30</th>\n",
       "      <th>cluster_31</th>\n",
       "      <th>cluster_32</th>\n",
       "      <th>cluster_33</th>\n",
       "      <th>cluster_34</th>\n",
       "      <th>cluster_35</th>\n",
       "      <th>cluster_36</th>\n",
       "      <th>cluster_37</th>\n",
       "      <th>cluster_38</th>\n",
       "      <th>cluster_39</th>\n",
       "    </tr>\n",
       "    <tr>\n",
       "      <th>cell</th>\n",
       "      <th></th>\n",
       "      <th></th>\n",
       "      <th></th>\n",
       "      <th></th>\n",
       "      <th></th>\n",
       "      <th></th>\n",
       "      <th></th>\n",
       "      <th></th>\n",
       "      <th></th>\n",
       "      <th></th>\n",
       "      <th></th>\n",
       "      <th></th>\n",
       "      <th></th>\n",
       "      <th></th>\n",
       "      <th></th>\n",
       "      <th></th>\n",
       "      <th></th>\n",
       "      <th></th>\n",
       "      <th></th>\n",
       "      <th></th>\n",
       "      <th></th>\n",
       "    </tr>\n",
       "  </thead>\n",
       "  <tbody>\n",
       "    <tr>\n",
       "      <th>r1_GGCCGCAGTCCG</th>\n",
       "      <td>0</td>\n",
       "      <td>1</td>\n",
       "      <td>0</td>\n",
       "      <td>0</td>\n",
       "      <td>0</td>\n",
       "      <td>0</td>\n",
       "      <td>0</td>\n",
       "      <td>0</td>\n",
       "      <td>0</td>\n",
       "      <td>0</td>\n",
       "      <td>...</td>\n",
       "      <td>0</td>\n",
       "      <td>0</td>\n",
       "      <td>0</td>\n",
       "      <td>0</td>\n",
       "      <td>0</td>\n",
       "      <td>0</td>\n",
       "      <td>0</td>\n",
       "      <td>0</td>\n",
       "      <td>0</td>\n",
       "      <td>0</td>\n",
       "    </tr>\n",
       "    <tr>\n",
       "      <th>r1_CTTGTGCGGGAA</th>\n",
       "      <td>0</td>\n",
       "      <td>1</td>\n",
       "      <td>0</td>\n",
       "      <td>0</td>\n",
       "      <td>0</td>\n",
       "      <td>0</td>\n",
       "      <td>0</td>\n",
       "      <td>0</td>\n",
       "      <td>0</td>\n",
       "      <td>0</td>\n",
       "      <td>...</td>\n",
       "      <td>0</td>\n",
       "      <td>0</td>\n",
       "      <td>0</td>\n",
       "      <td>0</td>\n",
       "      <td>0</td>\n",
       "      <td>0</td>\n",
       "      <td>0</td>\n",
       "      <td>0</td>\n",
       "      <td>0</td>\n",
       "      <td>0</td>\n",
       "    </tr>\n",
       "    <tr>\n",
       "      <th>r1_GCGCAACTGCTC</th>\n",
       "      <td>0</td>\n",
       "      <td>1</td>\n",
       "      <td>0</td>\n",
       "      <td>0</td>\n",
       "      <td>0</td>\n",
       "      <td>0</td>\n",
       "      <td>0</td>\n",
       "      <td>0</td>\n",
       "      <td>0</td>\n",
       "      <td>0</td>\n",
       "      <td>...</td>\n",
       "      <td>0</td>\n",
       "      <td>0</td>\n",
       "      <td>0</td>\n",
       "      <td>0</td>\n",
       "      <td>0</td>\n",
       "      <td>0</td>\n",
       "      <td>0</td>\n",
       "      <td>0</td>\n",
       "      <td>0</td>\n",
       "      <td>0</td>\n",
       "    </tr>\n",
       "    <tr>\n",
       "      <th>r1_GATTGGGAGGCA</th>\n",
       "      <td>0</td>\n",
       "      <td>1</td>\n",
       "      <td>0</td>\n",
       "      <td>0</td>\n",
       "      <td>0</td>\n",
       "      <td>0</td>\n",
       "      <td>0</td>\n",
       "      <td>0</td>\n",
       "      <td>0</td>\n",
       "      <td>0</td>\n",
       "      <td>...</td>\n",
       "      <td>0</td>\n",
       "      <td>0</td>\n",
       "      <td>0</td>\n",
       "      <td>0</td>\n",
       "      <td>0</td>\n",
       "      <td>0</td>\n",
       "      <td>0</td>\n",
       "      <td>0</td>\n",
       "      <td>0</td>\n",
       "      <td>0</td>\n",
       "    </tr>\n",
       "    <tr>\n",
       "      <th>r1_GTGCCGCCTCTC</th>\n",
       "      <td>0</td>\n",
       "      <td>0</td>\n",
       "      <td>0</td>\n",
       "      <td>0</td>\n",
       "      <td>0</td>\n",
       "      <td>0</td>\n",
       "      <td>0</td>\n",
       "      <td>0</td>\n",
       "      <td>0</td>\n",
       "      <td>0</td>\n",
       "      <td>...</td>\n",
       "      <td>0</td>\n",
       "      <td>0</td>\n",
       "      <td>0</td>\n",
       "      <td>0</td>\n",
       "      <td>0</td>\n",
       "      <td>0</td>\n",
       "      <td>0</td>\n",
       "      <td>0</td>\n",
       "      <td>0</td>\n",
       "      <td>0</td>\n",
       "    </tr>\n",
       "  </tbody>\n",
       "</table>\n",
       "<p>5 rows × 39 columns</p>\n",
       "</div>"
      ],
      "text/plain": [
       "                 cluster_01  cluster_02  cluster_03  cluster_04  cluster_05  \\\n",
       "cell                                                                          \n",
       "r1_GGCCGCAGTCCG           0           1           0           0           0   \n",
       "r1_CTTGTGCGGGAA           0           1           0           0           0   \n",
       "r1_GCGCAACTGCTC           0           1           0           0           0   \n",
       "r1_GATTGGGAGGCA           0           1           0           0           0   \n",
       "r1_GTGCCGCCTCTC           0           0           0           0           0   \n",
       "\n",
       "                 cluster_06  cluster_07  cluster_08  cluster_09  cluster_10  \\\n",
       "cell                                                                          \n",
       "r1_GGCCGCAGTCCG           0           0           0           0           0   \n",
       "r1_CTTGTGCGGGAA           0           0           0           0           0   \n",
       "r1_GCGCAACTGCTC           0           0           0           0           0   \n",
       "r1_GATTGGGAGGCA           0           0           0           0           0   \n",
       "r1_GTGCCGCCTCTC           0           0           0           0           0   \n",
       "\n",
       "                    ...      cluster_30  cluster_31  cluster_32  cluster_33  \\\n",
       "cell                ...                                                       \n",
       "r1_GGCCGCAGTCCG     ...               0           0           0           0   \n",
       "r1_CTTGTGCGGGAA     ...               0           0           0           0   \n",
       "r1_GCGCAACTGCTC     ...               0           0           0           0   \n",
       "r1_GATTGGGAGGCA     ...               0           0           0           0   \n",
       "r1_GTGCCGCCTCTC     ...               0           0           0           0   \n",
       "\n",
       "                 cluster_34  cluster_35  cluster_36  cluster_37  cluster_38  \\\n",
       "cell                                                                          \n",
       "r1_GGCCGCAGTCCG           0           0           0           0           0   \n",
       "r1_CTTGTGCGGGAA           0           0           0           0           0   \n",
       "r1_GCGCAACTGCTC           0           0           0           0           0   \n",
       "r1_GATTGGGAGGCA           0           0           0           0           0   \n",
       "r1_GTGCCGCCTCTC           0           0           0           0           0   \n",
       "\n",
       "                 cluster_39  \n",
       "cell                         \n",
       "r1_GGCCGCAGTCCG           0  \n",
       "r1_CTTGTGCGGGAA           0  \n",
       "r1_GCGCAACTGCTC           0  \n",
       "r1_GATTGGGAGGCA           0  \n",
       "r1_GTGCCGCCTCTC           0  \n",
       "\n",
       "[5 rows x 39 columns]"
      ]
     },
     "execution_count": 54,
     "metadata": {},
     "output_type": "execute_result"
    }
   ],
   "source": [
    "cluster_bools = pd.get_dummies(cluster_names)\n",
    "cluster_bools.head()"
   ]
  },
  {
   "cell_type": "code",
   "execution_count": 55,
   "metadata": {},
   "outputs": [
    {
     "name": "stdout",
     "output_type": "stream",
     "text": [
      "cell,cluster_01,cluster_02,cluster_03,cluster_04,cluster_05,cluster_06,cluster_07,cluster_08,cluster_09,cluster_10,cluster_11,cluster_12,cluster_13,cluster_14,cluster_15,cluster_16,cluster_17,cluster_18,cluster_19,cluster_20,cluster_21,cluster_22,cluster_23,cluster_24,cluster_25,cluster_26,cluster_27,cluster_28,cluster_29,cluster_30,cluster_31,cluster_32,cluster_33,cluster_34,cluster_35,cluster_36,cluster_37,cluster_38,cluster_39\r\n",
      "r1_GGCCGCAGTCCG,0,1,0,0,0,0,0,0,0,0,0,0,0,0,0,0,0,0,0,0,0,0,0,0,0,0,0,0,0,0,0,0,0,0,0,0,0,0,0\r\n",
      "r1_CTTGTGCGGGAA,0,1,0,0,0,0,0,0,0,0,0,0,0,0,0,0,0,0,0,0,0,0,0,0,0,0,0,0,0,0,0,0,0,0,0,0,0,0,0\r\n",
      "r1_GCGCAACTGCTC,0,1,0,0,0,0,0,0,0,0,0,0,0,0,0,0,0,0,0,0,0,0,0,0,0,0,0,0,0,0,0,0,0,0,0,0,0,0,0\r\n",
      "r1_GATTGGGAGGCA,0,1,0,0,0,0,0,0,0,0,0,0,0,0,0,0,0,0,0,0,0,0,0,0,0,0,0,0,0,0,0,0,0,0,0,0,0,0,0\r\n",
      "r1_GTGCCGCCTCTC,0,0,0,0,0,0,0,0,0,0,0,0,0,0,0,0,0,0,0,0,0,0,0,0,1,0,0,0,0,0,0,0,0,0,0,0,0,0,0\r\n",
      "r1_CCTGTGACACAC,0,1,0,0,0,0,0,0,0,0,0,0,0,0,0,0,0,0,0,0,0,0,0,0,0,0,0,0,0,0,0,0,0,0,0,0,0,0,0\r\n",
      "r1_AATCTCGTTAAT,0,1,0,0,0,0,0,0,0,0,0,0,0,0,0,0,0,0,0,0,0,0,0,0,0,0,0,0,0,0,0,0,0,0,0,0,0,0,0\r\n",
      "r1_GATTTCCTCTGA,1,0,0,0,0,0,0,0,0,0,0,0,0,0,0,0,0,0,0,0,0,0,0,0,0,0,0,0,0,0,0,0,0,0,0,0,0,0,0\r\n",
      "r1_GAAGGCTGGAAC,0,1,0,0,0,0,0,0,0,0,0,0,0,0,0,0,0,0,0,0,0,0,0,0,0,0,0,0,0,0,0,0,0,0,0,0,0,0,0\r\n"
     ]
    }
   ],
   "source": [
    "csv = os.path.join(data_folder, 'cluster_bools.csv')\n",
    "cluster_bools.to_csv(csv, header=True)\n",
    "! head $csv"
   ]
  },
  {
   "cell_type": "code",
   "execution_count": null,
   "metadata": {
    "collapsed": true
   },
   "outputs": [],
   "source": []
  }
 ],
 "metadata": {
  "kernelspec": {
   "display_name": "Python (macosko2015-env)",
   "language": "python",
   "name": "macosko2015-env"
  },
  "language_info": {
   "codemirror_mode": {
    "name": "ipython",
    "version": 3
   },
   "file_extension": ".py",
   "mimetype": "text/x-python",
   "name": "python",
   "nbconvert_exporter": "python",
   "pygments_lexer": "ipython3",
   "version": "3.6.1"
  }
 },
 "nbformat": 4,
 "nbformat_minor": 2
}
